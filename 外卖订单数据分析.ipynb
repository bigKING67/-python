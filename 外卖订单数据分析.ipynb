{
 "cells": [
  {
   "cell_type": "markdown",
   "id": "76c96723",
   "metadata": {},
   "source": [
    "# 项目介绍"
   ]
  },
  {
   "cell_type": "markdown",
   "id": "f51076f4",
   "metadata": {},
   "source": [
    "本项目将对外卖订单成交数据（共4419条记录）进行数据清洗、数据可视化、数据分析，阐述销售现状、挖掘潜在规律、发现存在问题、提出可行性建议。"
   ]
  },
  {
   "cell_type": "markdown",
   "id": "e5c2f3dd",
   "metadata": {},
   "source": [
    "# 数据介绍"
   ]
  },
  {
   "cell_type": "markdown",
   "id": "11fc6247",
   "metadata": {},
   "source": [
    "查看数据"
   ]
  },
  {
   "cell_type": "code",
   "execution_count": 9,
   "id": "97bc4885",
   "metadata": {},
   "outputs": [
    {
     "name": "stdout",
     "output_type": "stream",
     "text": [
      "         addTime        下单日期               下单日期时间      下单时间      品牌名称  城市  ... 订单数   订单金额      距离  配送费       门店ID  餐盒费\n",
      "0  2020/8/1 9:22  2020-07-28  2020-07-28 11:01:00  11:01:28  拌客（武宁路店）  上海  ...   1  43.80   797.0  0.8  337460136  2.0\n",
      "1  2020/8/1 9:22  2020-07-28  2020-07-28 20:12:00  20:12:39  拌客（武宁路店）  上海  ...   1  57.96   239.0  0.8  337460136  2.0\n",
      "2  2020/8/1 9:23  2020-07-28  2020-07-28 20:18:00  20:18:21  拌客（武宁路店）  上海  ...   1  63.04   239.0  0.8  337460136  2.0\n",
      "3  2020/8/1 9:23  2020-07-28  2020-07-28 11:42:00  11:42:03  拌客（武宁路店）  上海  ...   1  45.52  2978.0  3.3  337460136  2.0\n",
      "4  2020/8/1 9:24  2020-07-28  2020-07-28 23:06:00  23:06:48  拌客（武宁路店）  上海  ...   1  65.72   518.0  2.8  337460136  2.0\n",
      "\n",
      "[5 rows x 37 columns]\n"
     ]
    }
   ],
   "source": [
    "import pandas as pd\n",
    "import numpy as np\n",
    "import matplotlib.pyplot as plt\n",
    "路径 = 'D:/个人练习手册/orders.csv'\n",
    "数据 = pd.read_csv(路径,encoding = 'gbk')\n",
    "print(数据.head())"
   ]
  },
  {
   "cell_type": "markdown",
   "id": "a68a246e",
   "metadata": {},
   "source": [
    "数据的基本情况"
   ]
  },
  {
   "cell_type": "code",
   "execution_count": 11,
   "id": "8c912841",
   "metadata": {},
   "outputs": [
    {
     "name": "stdout",
     "output_type": "stream",
     "text": [
      "<class 'pandas.core.frame.DataFrame'>\n",
      "RangeIndex: 4419 entries, 0 to 4418\n",
      "Data columns (total 37 columns):\n",
      " #   Column     Non-Null Count  Dtype  \n",
      "---  ------     --------------  -----  \n",
      " 0   addTime    4419 non-null   object \n",
      " 1   下单日期       4419 non-null   object \n",
      " 2   下单日期时间     4419 non-null   object \n",
      " 3   下单时间       4419 non-null   object \n",
      " 4   品牌名称       4419 non-null   object \n",
      " 5   城市         4419 non-null   object \n",
      " 6   平台         4419 non-null   object \n",
      " 7   用户id       4419 non-null   int64  \n",
      " 8   订单id       4419 non-null   int64  \n",
      " 9   订单状态       4419 non-null   object \n",
      " 10  配送地址eleme  4419 non-null   object \n",
      " 11  配送坐标       4419 non-null   object \n",
      " 12  配送坐标 - 纬度  4419 non-null   float64\n",
      " 13  配送坐标 - 经度  4419 non-null   float64\n",
      " 14  配送类型       4419 non-null   int64  \n",
      " 15  门店名称       4419 non-null   object \n",
      " 16  order_15d  3217 non-null   float64\n",
      " 17  order_30d  3217 non-null   float64\n",
      " 18  order_60d  3217 non-null   float64\n",
      " 19  order_7d   3217 non-null   float64\n",
      " 20  order_90d  3217 non-null   float64\n",
      " 21  sku去重菜品数   4419 non-null   int64  \n",
      " 22  品牌id       4419 non-null   int64  \n",
      " 23  商家实收       4419 non-null   float64\n",
      " 24  商家补贴       4419 non-null   float64\n",
      " 25  平台补贴       4419 non-null   float64\n",
      " 26  总补贴        4419 non-null   float64\n",
      " 27  服务费        4419 non-null   float64\n",
      " 28  用户实付       4419 non-null   float64\n",
      " 29  菜品个数       4419 non-null   int64  \n",
      " 30  菜品总数       4419 non-null   int64  \n",
      " 31  订单数        4419 non-null   int64  \n",
      " 32  订单金额       4419 non-null   float64\n",
      " 33  距离         4413 non-null   float64\n",
      " 34  配送费        4419 non-null   float64\n",
      " 35  门店ID       4419 non-null   int64  \n",
      " 36  餐盒费        4419 non-null   float64\n",
      "dtypes: float64(17), int64(9), object(11)\n",
      "memory usage: 1.2+ MB\n"
     ]
    }
   ],
   "source": [
    "数据.info()"
   ]
  },
  {
   "cell_type": "markdown",
   "id": "e3fb4ca8",
   "metadata": {},
   "source": [
    "* 一共有37个字段，\n",
    "* 'order_15d'、'order_30d'、'order_60d'、'order_7d'、'order_90d'、'距离'的非空计数少于4419\n",
    "* ‘下单日期’、‘下单日期时间’、‘下单时间’的数据类型不符合类型，如果用到的话需要修改"
   ]
  },
  {
   "cell_type": "markdown",
   "id": "30e046db",
   "metadata": {},
   "source": [
    "# 数据预处理"
   ]
  },
  {
   "cell_type": "markdown",
   "id": "366fa7be",
   "metadata": {},
   "source": [
    "## 数据格式整理"
   ]
  },
  {
   "cell_type": "markdown",
   "id": "e20320bc",
   "metadata": {},
   "source": [
    "### 规范列名"
   ]
  },
  {
   "cell_type": "code",
   "execution_count": 12,
   "id": "3fe09614",
   "metadata": {
    "scrolled": true
   },
   "outputs": [
    {
     "data": {
      "text/plain": [
       "Index(['addTime', '下单日期', '下单日期时间', '下单时间', '品牌名称', '城市', '平台', '用户id', '订单id',\n",
       "       '订单状态', '配送地址eleme', '配送坐标', '配送坐标 - 纬度', '配送坐标 - 经度', '配送类型', '门店名称',\n",
       "       'order_15d', 'order_30d', 'order_60d', 'order_7d', 'order_90d',\n",
       "       'sku去重菜品数', '品牌id', '商家实收', '商家补贴', '平台补贴', '总补贴', '服务费', '用户实付',\n",
       "       '菜品个数', '菜品总数', '订单数', '订单金额', '距离', '配送费', '门店ID', '餐盒费'],\n",
       "      dtype='object')"
      ]
     },
     "execution_count": 12,
     "metadata": {},
     "output_type": "execute_result"
    }
   ],
   "source": [
    "# 查看列名是否包含空格\n",
    "数据.columns"
   ]
  },
  {
   "cell_type": "markdown",
   "id": "c3f2f24e",
   "metadata": {},
   "source": [
    "### 修改关于时间数据的数据类型"
   ]
  },
  {
   "cell_type": "code",
   "execution_count": 45,
   "id": "7980da80",
   "metadata": {},
   "outputs": [],
   "source": [
    "数据['下单日期'] = pd.to_datetime(数据['下单日期'])\n",
    "数据['下单日期时间'] = pd.to_datetime(数据['下单日期时间'])"
   ]
  },
  {
   "cell_type": "markdown",
   "id": "e523ddc3",
   "metadata": {},
   "source": [
    "### 缺失值处理"
   ]
  },
  {
   "cell_type": "code",
   "execution_count": 29,
   "id": "e55ff0f9",
   "metadata": {},
   "outputs": [
    {
     "name": "stdout",
     "output_type": "stream",
     "text": [
      "0       False\n",
      "1        True\n",
      "2       False\n",
      "3        True\n",
      "4        True\n",
      "        ...  \n",
      "4414    False\n",
      "4415    False\n",
      "4416    False\n",
      "4417    False\n",
      "4418    False\n",
      "Name: order_15d, Length: 4419, dtype: bool\n",
      "缺失数量：1202\n",
      "缺失比例：27.20%\n"
     ]
    }
   ],
   "source": [
    "# 列order_15d的缺失信息\n",
    "缺失 = print(数据['order_15d'].isnull())\n",
    "a=sum(数据['order_15d'].isnull())\n",
    "print(f'缺失数量：{a}')\n",
    "b = format(a/4419,'.2%')\n",
    "print(f'缺失比例：{b}')\n"
   ]
  },
  {
   "cell_type": "code",
   "execution_count": 31,
   "id": "453694be",
   "metadata": {},
   "outputs": [],
   "source": [
    "# 检查数据"
   ]
  },
  {
   "cell_type": "markdown",
   "id": "bd0ad093",
   "metadata": {},
   "source": [
    "由于此次分析的目的不涉及缺失order的那几个字段，故不需要对其进行处理"
   ]
  },
  {
   "cell_type": "markdown",
   "id": "1908a402",
   "metadata": {},
   "source": [
    "### 异常值处理"
   ]
  },
  {
   "cell_type": "code",
   "execution_count": 32,
   "id": "a0edd1ea",
   "metadata": {},
   "outputs": [
    {
     "data": {
      "text/html": [
       "<div>\n",
       "<style scoped>\n",
       "    .dataframe tbody tr th:only-of-type {\n",
       "        vertical-align: middle;\n",
       "    }\n",
       "\n",
       "    .dataframe tbody tr th {\n",
       "        vertical-align: top;\n",
       "    }\n",
       "\n",
       "    .dataframe thead th {\n",
       "        text-align: right;\n",
       "    }\n",
       "</style>\n",
       "<table border=\"1\" class=\"dataframe\">\n",
       "  <thead>\n",
       "    <tr style=\"text-align: right;\">\n",
       "      <th></th>\n",
       "      <th>用户id</th>\n",
       "      <th>订单id</th>\n",
       "      <th>配送坐标 - 纬度</th>\n",
       "      <th>配送坐标 - 经度</th>\n",
       "      <th>配送类型</th>\n",
       "      <th>order_15d</th>\n",
       "      <th>order_30d</th>\n",
       "      <th>order_60d</th>\n",
       "      <th>order_7d</th>\n",
       "      <th>order_90d</th>\n",
       "      <th>sku去重菜品数</th>\n",
       "      <th>品牌id</th>\n",
       "      <th>商家实收</th>\n",
       "      <th>商家补贴</th>\n",
       "      <th>平台补贴</th>\n",
       "      <th>总补贴</th>\n",
       "      <th>服务费</th>\n",
       "      <th>用户实付</th>\n",
       "      <th>菜品个数</th>\n",
       "      <th>菜品总数</th>\n",
       "      <th>订单数</th>\n",
       "      <th>订单金额</th>\n",
       "      <th>距离</th>\n",
       "      <th>配送费</th>\n",
       "      <th>门店ID</th>\n",
       "      <th>餐盒费</th>\n",
       "    </tr>\n",
       "  </thead>\n",
       "  <tbody>\n",
       "    <tr>\n",
       "      <th>count</th>\n",
       "      <td>4.419000e+03</td>\n",
       "      <td>4.419000e+03</td>\n",
       "      <td>4419.000000</td>\n",
       "      <td>4419.000000</td>\n",
       "      <td>4419.000000</td>\n",
       "      <td>3217.000000</td>\n",
       "      <td>3217.000000</td>\n",
       "      <td>3217.000000</td>\n",
       "      <td>3217.000000</td>\n",
       "      <td>3217.000000</td>\n",
       "      <td>4419.000000</td>\n",
       "      <td>4419.0</td>\n",
       "      <td>4419.000000</td>\n",
       "      <td>4419.000000</td>\n",
       "      <td>4419.000000</td>\n",
       "      <td>4419.000000</td>\n",
       "      <td>4419.000000</td>\n",
       "      <td>4419.000000</td>\n",
       "      <td>4419.000000</td>\n",
       "      <td>4419.000000</td>\n",
       "      <td>4419.0</td>\n",
       "      <td>4419.000000</td>\n",
       "      <td>4413.000000</td>\n",
       "      <td>4419.000000</td>\n",
       "      <td>4.419000e+03</td>\n",
       "      <td>4419.000000</td>\n",
       "    </tr>\n",
       "    <tr>\n",
       "      <th>mean</th>\n",
       "      <td>5.750679e+08</td>\n",
       "      <td>2.304600e+18</td>\n",
       "      <td>31.199590</td>\n",
       "      <td>121.271417</td>\n",
       "      <td>1102.247567</td>\n",
       "      <td>1.139882</td>\n",
       "      <td>1.417470</td>\n",
       "      <td>1.557973</td>\n",
       "      <td>0.769039</td>\n",
       "      <td>1.600249</td>\n",
       "      <td>10.175153</td>\n",
       "      <td>6108.0</td>\n",
       "      <td>16.288959</td>\n",
       "      <td>25.551867</td>\n",
       "      <td>2.051957</td>\n",
       "      <td>27.603824</td>\n",
       "      <td>0.153028</td>\n",
       "      <td>23.350342</td>\n",
       "      <td>10.196651</td>\n",
       "      <td>10.548993</td>\n",
       "      <td>1.0</td>\n",
       "      <td>50.979737</td>\n",
       "      <td>1500.162475</td>\n",
       "      <td>2.417990</td>\n",
       "      <td>7.381772e+08</td>\n",
       "      <td>2.335144</td>\n",
       "    </tr>\n",
       "    <tr>\n",
       "      <th>std</th>\n",
       "      <td>7.899761e+08</td>\n",
       "      <td>2.442473e+18</td>\n",
       "      <td>1.150595</td>\n",
       "      <td>4.472177</td>\n",
       "      <td>995.076487</td>\n",
       "      <td>1.938021</td>\n",
       "      <td>2.373172</td>\n",
       "      <td>2.630986</td>\n",
       "      <td>1.343100</td>\n",
       "      <td>2.726204</td>\n",
       "      <td>3.628593</td>\n",
       "      <td>0.0</td>\n",
       "      <td>9.346231</td>\n",
       "      <td>6.380767</td>\n",
       "      <td>2.105196</td>\n",
       "      <td>6.827127</td>\n",
       "      <td>5.496264</td>\n",
       "      <td>10.944536</td>\n",
       "      <td>3.657969</td>\n",
       "      <td>3.783292</td>\n",
       "      <td>0.0</td>\n",
       "      <td>14.768896</td>\n",
       "      <td>837.964157</td>\n",
       "      <td>1.557213</td>\n",
       "      <td>9.434445e+08</td>\n",
       "      <td>0.727017</td>\n",
       "    </tr>\n",
       "    <tr>\n",
       "      <th>min</th>\n",
       "      <td>-2.042585e+09</td>\n",
       "      <td>9.428110e+16</td>\n",
       "      <td>0.000000</td>\n",
       "      <td>0.000000</td>\n",
       "      <td>1.000000</td>\n",
       "      <td>0.000000</td>\n",
       "      <td>0.000000</td>\n",
       "      <td>0.000000</td>\n",
       "      <td>0.000000</td>\n",
       "      <td>0.000000</td>\n",
       "      <td>1.000000</td>\n",
       "      <td>6108.0</td>\n",
       "      <td>-4.700000</td>\n",
       "      <td>0.000000</td>\n",
       "      <td>0.000000</td>\n",
       "      <td>0.000000</td>\n",
       "      <td>-39.210000</td>\n",
       "      <td>1.360000</td>\n",
       "      <td>1.000000</td>\n",
       "      <td>2.000000</td>\n",
       "      <td>1.0</td>\n",
       "      <td>17.760000</td>\n",
       "      <td>0.000000</td>\n",
       "      <td>0.000000</td>\n",
       "      <td>9.428110e+06</td>\n",
       "      <td>0.000000</td>\n",
       "    </tr>\n",
       "    <tr>\n",
       "      <th>25%</th>\n",
       "      <td>6.308639e+07</td>\n",
       "      <td>9.698620e+16</td>\n",
       "      <td>31.235668</td>\n",
       "      <td>121.425318</td>\n",
       "      <td>2.000000</td>\n",
       "      <td>0.000000</td>\n",
       "      <td>0.000000</td>\n",
       "      <td>0.000000</td>\n",
       "      <td>0.000000</td>\n",
       "      <td>0.000000</td>\n",
       "      <td>8.000000</td>\n",
       "      <td>6108.0</td>\n",
       "      <td>10.290000</td>\n",
       "      <td>21.900000</td>\n",
       "      <td>0.000000</td>\n",
       "      <td>23.000000</td>\n",
       "      <td>-5.200000</td>\n",
       "      <td>16.680000</td>\n",
       "      <td>8.000000</td>\n",
       "      <td>9.000000</td>\n",
       "      <td>1.0</td>\n",
       "      <td>42.140000</td>\n",
       "      <td>865.000000</td>\n",
       "      <td>0.800000</td>\n",
       "      <td>9.698624e+06</td>\n",
       "      <td>2.000000</td>\n",
       "    </tr>\n",
       "    <tr>\n",
       "      <th>50%</th>\n",
       "      <td>2.298519e+08</td>\n",
       "      <td>9.698620e+16</td>\n",
       "      <td>31.242761</td>\n",
       "      <td>121.436763</td>\n",
       "      <td>2002.000000</td>\n",
       "      <td>0.000000</td>\n",
       "      <td>1.000000</td>\n",
       "      <td>1.000000</td>\n",
       "      <td>0.000000</td>\n",
       "      <td>1.000000</td>\n",
       "      <td>10.000000</td>\n",
       "      <td>6108.0</td>\n",
       "      <td>15.700000</td>\n",
       "      <td>25.000000</td>\n",
       "      <td>2.000000</td>\n",
       "      <td>27.000000</td>\n",
       "      <td>4.500000</td>\n",
       "      <td>21.880000</td>\n",
       "      <td>10.000000</td>\n",
       "      <td>11.000000</td>\n",
       "      <td>1.0</td>\n",
       "      <td>49.780000</td>\n",
       "      <td>1379.000000</td>\n",
       "      <td>3.000000</td>\n",
       "      <td>9.698624e+06</td>\n",
       "      <td>2.000000</td>\n",
       "    </tr>\n",
       "    <tr>\n",
       "      <th>75%</th>\n",
       "      <td>8.887662e+08</td>\n",
       "      <td>5.006360e+18</td>\n",
       "      <td>31.247879</td>\n",
       "      <td>121.447647</td>\n",
       "      <td>2002.000000</td>\n",
       "      <td>1.000000</td>\n",
       "      <td>2.000000</td>\n",
       "      <td>2.000000</td>\n",
       "      <td>1.000000</td>\n",
       "      <td>2.000000</td>\n",
       "      <td>12.000000</td>\n",
       "      <td>6108.0</td>\n",
       "      <td>21.120000</td>\n",
       "      <td>28.100000</td>\n",
       "      <td>3.000000</td>\n",
       "      <td>31.100000</td>\n",
       "      <td>4.500000</td>\n",
       "      <td>28.160000</td>\n",
       "      <td>12.000000</td>\n",
       "      <td>13.000000</td>\n",
       "      <td>1.0</td>\n",
       "      <td>57.480000</td>\n",
       "      <td>2084.000000</td>\n",
       "      <td>3.000000</td>\n",
       "      <td>2.043565e+09</td>\n",
       "      <td>2.500000</td>\n",
       "    </tr>\n",
       "    <tr>\n",
       "      <th>max</th>\n",
       "      <td>2.972178e+09</td>\n",
       "      <td>5.007880e+18</td>\n",
       "      <td>31.285071</td>\n",
       "      <td>121.489317</td>\n",
       "      <td>2002.000000</td>\n",
       "      <td>15.000000</td>\n",
       "      <td>20.000000</td>\n",
       "      <td>25.000000</td>\n",
       "      <td>11.000000</td>\n",
       "      <td>25.000000</td>\n",
       "      <td>41.000000</td>\n",
       "      <td>6108.0</td>\n",
       "      <td>167.170000</td>\n",
       "      <td>164.000000</td>\n",
       "      <td>25.000000</td>\n",
       "      <td>164.000000</td>\n",
       "      <td>30.580000</td>\n",
       "      <td>209.680000</td>\n",
       "      <td>41.000000</td>\n",
       "      <td>46.000000</td>\n",
       "      <td>1.0</td>\n",
       "      <td>336.900000</td>\n",
       "      <td>4604.000000</td>\n",
       "      <td>9.000000</td>\n",
       "      <td>2.043565e+09</td>\n",
       "      <td>15.000000</td>\n",
       "    </tr>\n",
       "  </tbody>\n",
       "</table>\n",
       "</div>"
      ],
      "text/plain": [
       "               用户id          订单id    配送坐标 - 纬度    配送坐标 - 经度  ...           距离          配送费          门店ID          餐盒费\n",
       "count  4.419000e+03  4.419000e+03  4419.000000  4419.000000  ...  4413.000000  4419.000000  4.419000e+03  4419.000000\n",
       "mean   5.750679e+08  2.304600e+18    31.199590   121.271417  ...  1500.162475     2.417990  7.381772e+08     2.335144\n",
       "std    7.899761e+08  2.442473e+18     1.150595     4.472177  ...   837.964157     1.557213  9.434445e+08     0.727017\n",
       "min   -2.042585e+09  9.428110e+16     0.000000     0.000000  ...     0.000000     0.000000  9.428110e+06     0.000000\n",
       "25%    6.308639e+07  9.698620e+16    31.235668   121.425318  ...   865.000000     0.800000  9.698624e+06     2.000000\n",
       "50%    2.298519e+08  9.698620e+16    31.242761   121.436763  ...  1379.000000     3.000000  9.698624e+06     2.000000\n",
       "75%    8.887662e+08  5.006360e+18    31.247879   121.447647  ...  2084.000000     3.000000  2.043565e+09     2.500000\n",
       "max    2.972178e+09  5.007880e+18    31.285071   121.489317  ...  4604.000000     9.000000  2.043565e+09    15.000000\n",
       "\n",
       "[8 rows x 26 columns]"
      ]
     },
     "execution_count": 32,
     "metadata": {},
     "output_type": "execute_result"
    }
   ],
   "source": [
    "数据.describe()"
   ]
  },
  {
   "cell_type": "markdown",
   "id": "ecbb580c",
   "metadata": {},
   "source": [
    "观察得出，订单金额的最大值与75%分位数等在合理区间，判断没有异常值"
   ]
  },
  {
   "cell_type": "markdown",
   "id": "c2ddc7ee",
   "metadata": {},
   "source": [
    "### 重复值处理"
   ]
  },
  {
   "cell_type": "code",
   "execution_count": 39,
   "id": "6008e5c6",
   "metadata": {},
   "outputs": [
    {
     "name": "stdout",
     "output_type": "stream",
     "text": [
      "Empty DataFrame\n",
      "Columns: [addTime, 下单日期, 下单日期时间, 下单时间, 品牌名称, 城市, 平台, 用户id, 订单id, 订单状态, 配送地址eleme, 配送坐标, 配送坐标 - 纬度, 配送坐标 - 经度, 配送类型, 门店名称, order_15d, order_30d, order_60d, order_7d, order_90d, sku去重菜品数, 品牌id, 商家实收, 商家补贴, 平台补贴, 总补贴, 服务费, 用户实付, 菜品个数, 菜品总数, 订单数, 订单金额, 距离, 配送费, 门店ID, 餐盒费]\n",
      "Index: []\n"
     ]
    }
   ],
   "source": [
    "重复 = 数据.duplicated(subset=None,keep='first')\n",
    "print(数据[重复])"
   ]
  },
  {
   "cell_type": "markdown",
   "id": "282727b0",
   "metadata": {},
   "source": [
    "未出现重复值"
   ]
  },
  {
   "cell_type": "markdown",
   "id": "9f0a942b",
   "metadata": {},
   "source": [
    "# 数据分析"
   ]
  },
  {
   "cell_type": "markdown",
   "id": "87486b4d",
   "metadata": {},
   "source": [
    "## 描述性统计"
   ]
  },
  {
   "cell_type": "code",
   "execution_count": 41,
   "id": "533a0bf6",
   "metadata": {},
   "outputs": [
    {
     "data": {
      "text/html": [
       "<div>\n",
       "<style scoped>\n",
       "    .dataframe tbody tr th:only-of-type {\n",
       "        vertical-align: middle;\n",
       "    }\n",
       "\n",
       "    .dataframe tbody tr th {\n",
       "        vertical-align: top;\n",
       "    }\n",
       "\n",
       "    .dataframe thead th {\n",
       "        text-align: right;\n",
       "    }\n",
       "</style>\n",
       "<table border=\"1\" class=\"dataframe\">\n",
       "  <thead>\n",
       "    <tr style=\"text-align: right;\">\n",
       "      <th></th>\n",
       "      <th>用户id</th>\n",
       "      <th>订单id</th>\n",
       "      <th>配送坐标 - 纬度</th>\n",
       "      <th>配送坐标 - 经度</th>\n",
       "      <th>配送类型</th>\n",
       "      <th>order_15d</th>\n",
       "      <th>order_30d</th>\n",
       "      <th>order_60d</th>\n",
       "      <th>order_7d</th>\n",
       "      <th>order_90d</th>\n",
       "      <th>sku去重菜品数</th>\n",
       "      <th>品牌id</th>\n",
       "      <th>商家实收</th>\n",
       "      <th>商家补贴</th>\n",
       "      <th>平台补贴</th>\n",
       "      <th>总补贴</th>\n",
       "      <th>服务费</th>\n",
       "      <th>用户实付</th>\n",
       "      <th>菜品个数</th>\n",
       "      <th>菜品总数</th>\n",
       "      <th>订单数</th>\n",
       "      <th>订单金额</th>\n",
       "      <th>距离</th>\n",
       "      <th>配送费</th>\n",
       "      <th>门店ID</th>\n",
       "      <th>餐盒费</th>\n",
       "    </tr>\n",
       "  </thead>\n",
       "  <tbody>\n",
       "    <tr>\n",
       "      <th>count</th>\n",
       "      <td>4.419000e+03</td>\n",
       "      <td>4.419000e+03</td>\n",
       "      <td>4419.000000</td>\n",
       "      <td>4419.000000</td>\n",
       "      <td>4419.000000</td>\n",
       "      <td>3217.000000</td>\n",
       "      <td>3217.000000</td>\n",
       "      <td>3217.000000</td>\n",
       "      <td>3217.000000</td>\n",
       "      <td>3217.000000</td>\n",
       "      <td>4419.000000</td>\n",
       "      <td>4419.0</td>\n",
       "      <td>4419.000000</td>\n",
       "      <td>4419.000000</td>\n",
       "      <td>4419.000000</td>\n",
       "      <td>4419.000000</td>\n",
       "      <td>4419.000000</td>\n",
       "      <td>4419.000000</td>\n",
       "      <td>4419.000000</td>\n",
       "      <td>4419.000000</td>\n",
       "      <td>4419.0</td>\n",
       "      <td>4419.000000</td>\n",
       "      <td>4413.000000</td>\n",
       "      <td>4419.000000</td>\n",
       "      <td>4.419000e+03</td>\n",
       "      <td>4419.000000</td>\n",
       "    </tr>\n",
       "    <tr>\n",
       "      <th>mean</th>\n",
       "      <td>5.750679e+08</td>\n",
       "      <td>2.304600e+18</td>\n",
       "      <td>31.199590</td>\n",
       "      <td>121.271417</td>\n",
       "      <td>1102.247567</td>\n",
       "      <td>1.139882</td>\n",
       "      <td>1.417470</td>\n",
       "      <td>1.557973</td>\n",
       "      <td>0.769039</td>\n",
       "      <td>1.600249</td>\n",
       "      <td>10.175153</td>\n",
       "      <td>6108.0</td>\n",
       "      <td>16.288959</td>\n",
       "      <td>25.551867</td>\n",
       "      <td>2.051957</td>\n",
       "      <td>27.603824</td>\n",
       "      <td>0.153028</td>\n",
       "      <td>23.350342</td>\n",
       "      <td>10.196651</td>\n",
       "      <td>10.548993</td>\n",
       "      <td>1.0</td>\n",
       "      <td>50.979737</td>\n",
       "      <td>1500.162475</td>\n",
       "      <td>2.417990</td>\n",
       "      <td>7.381772e+08</td>\n",
       "      <td>2.335144</td>\n",
       "    </tr>\n",
       "    <tr>\n",
       "      <th>std</th>\n",
       "      <td>7.899761e+08</td>\n",
       "      <td>2.442473e+18</td>\n",
       "      <td>1.150595</td>\n",
       "      <td>4.472177</td>\n",
       "      <td>995.076487</td>\n",
       "      <td>1.938021</td>\n",
       "      <td>2.373172</td>\n",
       "      <td>2.630986</td>\n",
       "      <td>1.343100</td>\n",
       "      <td>2.726204</td>\n",
       "      <td>3.628593</td>\n",
       "      <td>0.0</td>\n",
       "      <td>9.346231</td>\n",
       "      <td>6.380767</td>\n",
       "      <td>2.105196</td>\n",
       "      <td>6.827127</td>\n",
       "      <td>5.496264</td>\n",
       "      <td>10.944536</td>\n",
       "      <td>3.657969</td>\n",
       "      <td>3.783292</td>\n",
       "      <td>0.0</td>\n",
       "      <td>14.768896</td>\n",
       "      <td>837.964157</td>\n",
       "      <td>1.557213</td>\n",
       "      <td>9.434445e+08</td>\n",
       "      <td>0.727017</td>\n",
       "    </tr>\n",
       "    <tr>\n",
       "      <th>min</th>\n",
       "      <td>-2.042585e+09</td>\n",
       "      <td>9.428110e+16</td>\n",
       "      <td>0.000000</td>\n",
       "      <td>0.000000</td>\n",
       "      <td>1.000000</td>\n",
       "      <td>0.000000</td>\n",
       "      <td>0.000000</td>\n",
       "      <td>0.000000</td>\n",
       "      <td>0.000000</td>\n",
       "      <td>0.000000</td>\n",
       "      <td>1.000000</td>\n",
       "      <td>6108.0</td>\n",
       "      <td>-4.700000</td>\n",
       "      <td>0.000000</td>\n",
       "      <td>0.000000</td>\n",
       "      <td>0.000000</td>\n",
       "      <td>-39.210000</td>\n",
       "      <td>1.360000</td>\n",
       "      <td>1.000000</td>\n",
       "      <td>2.000000</td>\n",
       "      <td>1.0</td>\n",
       "      <td>17.760000</td>\n",
       "      <td>0.000000</td>\n",
       "      <td>0.000000</td>\n",
       "      <td>9.428110e+06</td>\n",
       "      <td>0.000000</td>\n",
       "    </tr>\n",
       "    <tr>\n",
       "      <th>25%</th>\n",
       "      <td>6.308639e+07</td>\n",
       "      <td>9.698620e+16</td>\n",
       "      <td>31.235668</td>\n",
       "      <td>121.425318</td>\n",
       "      <td>2.000000</td>\n",
       "      <td>0.000000</td>\n",
       "      <td>0.000000</td>\n",
       "      <td>0.000000</td>\n",
       "      <td>0.000000</td>\n",
       "      <td>0.000000</td>\n",
       "      <td>8.000000</td>\n",
       "      <td>6108.0</td>\n",
       "      <td>10.290000</td>\n",
       "      <td>21.900000</td>\n",
       "      <td>0.000000</td>\n",
       "      <td>23.000000</td>\n",
       "      <td>-5.200000</td>\n",
       "      <td>16.680000</td>\n",
       "      <td>8.000000</td>\n",
       "      <td>9.000000</td>\n",
       "      <td>1.0</td>\n",
       "      <td>42.140000</td>\n",
       "      <td>865.000000</td>\n",
       "      <td>0.800000</td>\n",
       "      <td>9.698624e+06</td>\n",
       "      <td>2.000000</td>\n",
       "    </tr>\n",
       "    <tr>\n",
       "      <th>50%</th>\n",
       "      <td>2.298519e+08</td>\n",
       "      <td>9.698620e+16</td>\n",
       "      <td>31.242761</td>\n",
       "      <td>121.436763</td>\n",
       "      <td>2002.000000</td>\n",
       "      <td>0.000000</td>\n",
       "      <td>1.000000</td>\n",
       "      <td>1.000000</td>\n",
       "      <td>0.000000</td>\n",
       "      <td>1.000000</td>\n",
       "      <td>10.000000</td>\n",
       "      <td>6108.0</td>\n",
       "      <td>15.700000</td>\n",
       "      <td>25.000000</td>\n",
       "      <td>2.000000</td>\n",
       "      <td>27.000000</td>\n",
       "      <td>4.500000</td>\n",
       "      <td>21.880000</td>\n",
       "      <td>10.000000</td>\n",
       "      <td>11.000000</td>\n",
       "      <td>1.0</td>\n",
       "      <td>49.780000</td>\n",
       "      <td>1379.000000</td>\n",
       "      <td>3.000000</td>\n",
       "      <td>9.698624e+06</td>\n",
       "      <td>2.000000</td>\n",
       "    </tr>\n",
       "    <tr>\n",
       "      <th>75%</th>\n",
       "      <td>8.887662e+08</td>\n",
       "      <td>5.006360e+18</td>\n",
       "      <td>31.247879</td>\n",
       "      <td>121.447647</td>\n",
       "      <td>2002.000000</td>\n",
       "      <td>1.000000</td>\n",
       "      <td>2.000000</td>\n",
       "      <td>2.000000</td>\n",
       "      <td>1.000000</td>\n",
       "      <td>2.000000</td>\n",
       "      <td>12.000000</td>\n",
       "      <td>6108.0</td>\n",
       "      <td>21.120000</td>\n",
       "      <td>28.100000</td>\n",
       "      <td>3.000000</td>\n",
       "      <td>31.100000</td>\n",
       "      <td>4.500000</td>\n",
       "      <td>28.160000</td>\n",
       "      <td>12.000000</td>\n",
       "      <td>13.000000</td>\n",
       "      <td>1.0</td>\n",
       "      <td>57.480000</td>\n",
       "      <td>2084.000000</td>\n",
       "      <td>3.000000</td>\n",
       "      <td>2.043565e+09</td>\n",
       "      <td>2.500000</td>\n",
       "    </tr>\n",
       "    <tr>\n",
       "      <th>max</th>\n",
       "      <td>2.972178e+09</td>\n",
       "      <td>5.007880e+18</td>\n",
       "      <td>31.285071</td>\n",
       "      <td>121.489317</td>\n",
       "      <td>2002.000000</td>\n",
       "      <td>15.000000</td>\n",
       "      <td>20.000000</td>\n",
       "      <td>25.000000</td>\n",
       "      <td>11.000000</td>\n",
       "      <td>25.000000</td>\n",
       "      <td>41.000000</td>\n",
       "      <td>6108.0</td>\n",
       "      <td>167.170000</td>\n",
       "      <td>164.000000</td>\n",
       "      <td>25.000000</td>\n",
       "      <td>164.000000</td>\n",
       "      <td>30.580000</td>\n",
       "      <td>209.680000</td>\n",
       "      <td>41.000000</td>\n",
       "      <td>46.000000</td>\n",
       "      <td>1.0</td>\n",
       "      <td>336.900000</td>\n",
       "      <td>4604.000000</td>\n",
       "      <td>9.000000</td>\n",
       "      <td>2.043565e+09</td>\n",
       "      <td>15.000000</td>\n",
       "    </tr>\n",
       "  </tbody>\n",
       "</table>\n",
       "</div>"
      ],
      "text/plain": [
       "               用户id          订单id    配送坐标 - 纬度    配送坐标 - 经度  ...           距离          配送费          门店ID          餐盒费\n",
       "count  4.419000e+03  4.419000e+03  4419.000000  4419.000000  ...  4413.000000  4419.000000  4.419000e+03  4419.000000\n",
       "mean   5.750679e+08  2.304600e+18    31.199590   121.271417  ...  1500.162475     2.417990  7.381772e+08     2.335144\n",
       "std    7.899761e+08  2.442473e+18     1.150595     4.472177  ...   837.964157     1.557213  9.434445e+08     0.727017\n",
       "min   -2.042585e+09  9.428110e+16     0.000000     0.000000  ...     0.000000     0.000000  9.428110e+06     0.000000\n",
       "25%    6.308639e+07  9.698620e+16    31.235668   121.425318  ...   865.000000     0.800000  9.698624e+06     2.000000\n",
       "50%    2.298519e+08  9.698620e+16    31.242761   121.436763  ...  1379.000000     3.000000  9.698624e+06     2.000000\n",
       "75%    8.887662e+08  5.006360e+18    31.247879   121.447647  ...  2084.000000     3.000000  2.043565e+09     2.500000\n",
       "max    2.972178e+09  5.007880e+18    31.285071   121.489317  ...  4604.000000     9.000000  2.043565e+09    15.000000\n",
       "\n",
       "[8 rows x 26 columns]"
      ]
     },
     "execution_count": 41,
     "metadata": {},
     "output_type": "execute_result"
    }
   ],
   "source": [
    "数据1 = 数据.copy()\n",
    "数据1.describe()"
   ]
  },
  {
   "cell_type": "markdown",
   "id": "83e545cd",
   "metadata": {},
   "source": [
    "初步了解数据：\n",
    "* 订单情况\n",
    "    * 共记录4419条订单\n",
    "* 订单总金额\n",
    "    * 平均每单订单50.98，最小金额17.76，最大金额336.9\n"
   ]
  },
  {
   "cell_type": "markdown",
   "id": "b097bdf6",
   "metadata": {},
   "source": [
    "## 总体销售情况"
   ]
  },
  {
   "cell_type": "markdown",
   "id": "2bea874f",
   "metadata": {},
   "source": [
    "### 总销售额:225279.46元"
   ]
  },
  {
   "cell_type": "code",
   "execution_count": 54,
   "id": "1a79efe8",
   "metadata": {},
   "outputs": [
    {
     "name": "stdout",
     "output_type": "stream",
     "text": [
      "225279.46000000002\n"
     ]
    }
   ],
   "source": [
    "print(数据1['订单金额'].sum())"
   ]
  },
  {
   "cell_type": "markdown",
   "id": "fb1095ba",
   "metadata": {},
   "source": [
    "### 客单价"
   ]
  },
  {
   "cell_type": "code",
   "execution_count": 56,
   "id": "1672820b",
   "metadata": {
    "scrolled": true
   },
   "outputs": [
    {
     "data": {
      "text/plain": [
       "77.6"
      ]
     },
     "execution_count": 56,
     "metadata": {},
     "output_type": "execute_result"
    }
   ],
   "source": [
    "# 按客户数量\n",
    "\n",
    "round(数据1['订单金额'].sum() / 数据1['用户id'].nunique(),2)"
   ]
  },
  {
   "cell_type": "markdown",
   "id": "282a49a6",
   "metadata": {},
   "source": [
    "平均每位用户下单的金额为：77.6元"
   ]
  },
  {
   "cell_type": "code",
   "execution_count": 58,
   "id": "ca33fdf8",
   "metadata": {},
   "outputs": [
    {
     "data": {
      "text/plain": [
       "886.93"
      ]
     },
     "execution_count": 58,
     "metadata": {},
     "output_type": "execute_result"
    }
   ],
   "source": [
    "# 按订单数量\n",
    "round(数据1['订单金额'].sum() / 数据1['订单id'].nunique(),2)"
   ]
  },
  {
   "cell_type": "markdown",
   "id": "e927eb52",
   "metadata": {},
   "source": [
    "平均每笔订单金额为：886.93元"
   ]
  },
  {
   "cell_type": "markdown",
   "id": "d4d895de",
   "metadata": {},
   "source": [
    "## 用户分析"
   ]
  },
  {
   "cell_type": "markdown",
   "id": "625f6e51",
   "metadata": {},
   "source": [
    "### 用户总数量"
   ]
  },
  {
   "cell_type": "code",
   "execution_count": 59,
   "id": "14076f96",
   "metadata": {},
   "outputs": [
    {
     "name": "stdout",
     "output_type": "stream",
     "text": [
      "2903\n"
     ]
    }
   ],
   "source": [
    "# 用户总数量\n",
    "print(数据1['用户id'].nunique())"
   ]
  },
  {
   "cell_type": "markdown",
   "id": "2ca2d169",
   "metadata": {},
   "source": [
    "### 按距离划分用户"
   ]
  },
  {
   "cell_type": "code",
   "execution_count": 66,
   "id": "4c72d174",
   "metadata": {},
   "outputs": [
    {
     "name": "stdout",
     "output_type": "stream",
     "text": [
      "count    4413.000000\n",
      "mean     1500.162475\n",
      "std       837.964157\n",
      "min         0.000000\n",
      "25%       865.000000\n",
      "50%      1379.000000\n",
      "75%      2084.000000\n",
      "max      4604.000000\n",
      "Name: 距离, dtype: float64\n",
      "******************************\n",
      "缺失比例：0.14%\n"
     ]
    }
   ],
   "source": [
    "# 距离的基本信息\n",
    "print(数据1['距离'].describe())\n",
    "print('*'*30)\n",
    "#距离缺失值的个数\n",
    "a = sum((数据1['距离'].isnull()))\n",
    "比例 = format(a/4419,'.2%')\n",
    "print(f'缺失比例：{比例}')"
   ]
  },
  {
   "cell_type": "code",
   "execution_count": 67,
   "id": "b4ba1d4b",
   "metadata": {},
   "outputs": [
    {
     "name": "stdout",
     "output_type": "stream",
     "text": [
      "0\n"
     ]
    }
   ],
   "source": [
    "# 删除缺失行\n",
    "数据2 = 数据1.dropna()\n",
    "b = sum((数据2['距离'].isnull()))\n",
    "print(b)"
   ]
  },
  {
   "cell_type": "code",
   "execution_count": 74,
   "id": "7ad71c81",
   "metadata": {},
   "outputs": [
    {
     "name": "stdout",
     "output_type": "stream",
     "text": [
      "4328.0\n",
      "0.0\n"
     ]
    }
   ],
   "source": [
    "# 处理后的距离信息\n",
    "print(数据2['距离'].max()) \n",
    "print(数据2['距离'].min())"
   ]
  },
  {
   "cell_type": "markdown",
   "id": "912c600c",
   "metadata": {},
   "source": [
    "根据最大距离和最小距离，将距离划分为一A：0-1、B:1-2、C:2-3、D：3-4、E：4-5"
   ]
  },
  {
   "cell_type": "code",
   "execution_count": 78,
   "id": "5067ad70",
   "metadata": {},
   "outputs": [
    {
     "name": "stdout",
     "output_type": "stream",
     "text": [
      "0       A\n",
      "2       A\n",
      "6       A\n",
      "8       A\n",
      "9       D\n",
      "       ..\n",
      "4414    A\n",
      "4415    B\n",
      "4416    B\n",
      "4417    A\n",
      "4418    A\n",
      "Name: 距离划分, Length: 3215, dtype: object\n",
      "           addTime        下单日期               下单日期时间      下单时间      品牌名称  城市  ...    订单金额      距离  配送费       门店ID  餐盒费 距离划分\n",
      "0    2020/8/1 9:22  2020-07-28  2020-07-28 11:01:00  11:01:28  拌客（武宁路店）  上海  ...   43.80   797.0  0.8  337460136  2.0    A\n",
      "2    2020/8/1 9:23  2020-07-28  2020-07-28 20:18:00  20:18:21  拌客（武宁路店）  上海  ...   63.04   239.0  0.8  337460136  2.0    A\n",
      "6    2020/8/1 9:24  2020-07-28  2020-07-28 21:12:00  21:12:16  拌客（武宁路店）  上海  ...  101.18   851.0  2.8  337460136  2.0    A\n",
      "8    2020/8/1 9:25  2020-07-28  2020-07-28 22:07:00  22:07:46  拌客（武宁路店）  上海  ...   87.06   578.0  2.8  337460136  6.0    A\n",
      "9    2020/8/1 9:25  2020-07-28  2020-07-28 20:29:00  20:29:00  拌客（武宁路店）  上海  ...   49.20  3563.0  5.3  337460136  2.0    D\n",
      "..             ...         ...                  ...       ...       ...  ..  ...     ...     ...  ...        ...  ...  ...\n",
      "122  2020/8/2 5:34  2020-07-29  2020-07-29 17:38:00  17:38:22  拌客（武宁路店）  上海  ...   34.24   549.0  0.8  337460136  2.0    A\n",
      "126  2020/8/2 5:34  2020-07-29  2020-07-29 14:02:00  14:02:01  拌客（武宁路店）  上海  ...   55.64  1197.0  0.8  337460136  2.0    B\n",
      "127  2020/8/2 5:34  2020-07-29  2020-07-29 11:31:00  11:31:25  拌客（武宁路店）  上海  ...   34.74  1323.0  0.8  337460136  2.0    B\n",
      "128  2020/8/2 5:34  2020-07-29  2020-07-29 17:38:00  17:38:49  拌客（武宁路店）  上海  ...   65.36  1166.0  0.8  337460136  3.0    B\n",
      "130  2020/8/2 5:34  2020-07-29  2020-07-29 22:32:00  22:32:44  拌客（武宁路店）  上海  ...   65.42   924.0  2.8  337460136  2.0    A\n",
      "\n",
      "[67 rows x 38 columns]\n"
     ]
    },
    {
     "name": "stderr",
     "output_type": "stream",
     "text": [
      "C:\\Users\\luqin\\AppData\\Local\\Temp/ipykernel_18452/2269451767.py:12: SettingWithCopyWarning: \n",
      "A value is trying to be set on a copy of a slice from a DataFrame.\n",
      "Try using .loc[row_indexer,col_indexer] = value instead\n",
      "\n",
      "See the caveats in the documentation: https://pandas.pydata.org/pandas-docs/stable/user_guide/indexing.html#returning-a-view-versus-a-copy\n",
      "  数据2['距离划分'] = 数据['距离'].apply(距离)\n"
     ]
    }
   ],
   "source": [
    "def 距离(x):\n",
    "    if 0 <= x < 1000:\n",
    "        return('A')\n",
    "    elif 1000 <= x < 2000:\n",
    "        return('B')\n",
    "    elif 2000 <= x <3000:\n",
    "        return('C')\n",
    "    elif 3000 <= x < 4000:\n",
    "        return('D')\n",
    "    else:\n",
    "        return('E')  \n",
    "数据2['距离划分'] = 数据['距离'].apply(距离)\n",
    "print(数据2['距离划分'])\n",
    "print(数据2.head(67))"
   ]
  },
  {
   "cell_type": "code",
   "execution_count": 107,
   "id": "c64c4709",
   "metadata": {},
   "outputs": [
    {
     "data": {
      "text/html": [
       "<div>\n",
       "<style scoped>\n",
       "    .dataframe tbody tr th:only-of-type {\n",
       "        vertical-align: middle;\n",
       "    }\n",
       "\n",
       "    .dataframe tbody tr th {\n",
       "        vertical-align: top;\n",
       "    }\n",
       "\n",
       "    .dataframe thead th {\n",
       "        text-align: right;\n",
       "    }\n",
       "</style>\n",
       "<table border=\"1\" class=\"dataframe\">\n",
       "  <thead>\n",
       "    <tr style=\"text-align: right;\">\n",
       "      <th></th>\n",
       "      <th>距离划分</th>\n",
       "      <th>用户数量</th>\n",
       "    </tr>\n",
       "  </thead>\n",
       "  <tbody>\n",
       "    <tr>\n",
       "      <th>0</th>\n",
       "      <td>E</td>\n",
       "      <td>12</td>\n",
       "    </tr>\n",
       "    <tr>\n",
       "      <th>1</th>\n",
       "      <td>D</td>\n",
       "      <td>96</td>\n",
       "    </tr>\n",
       "    <tr>\n",
       "      <th>2</th>\n",
       "      <td>C</td>\n",
       "      <td>521</td>\n",
       "    </tr>\n",
       "    <tr>\n",
       "      <th>3</th>\n",
       "      <td>A</td>\n",
       "      <td>639</td>\n",
       "    </tr>\n",
       "    <tr>\n",
       "      <th>4</th>\n",
       "      <td>B</td>\n",
       "      <td>799</td>\n",
       "    </tr>\n",
       "  </tbody>\n",
       "</table>\n",
       "</div>"
      ],
      "text/plain": [
       "  距离划分  用户数量\n",
       "0    E    12\n",
       "1    D    96\n",
       "2    C   521\n",
       "3    A   639\n",
       "4    B   799"
      ]
     },
     "execution_count": 107,
     "metadata": {},
     "output_type": "execute_result"
    }
   ],
   "source": [
    "local = 数据2.groupby('距离划分')['用户id'].nunique().reset_index()\n",
    "local = local.rename(columns={'用户id':'用户数量'})\n",
    "local = local.sort_values('用户数量').reset_index(drop=True)\n",
    "local"
   ]
  },
  {
   "cell_type": "code",
   "execution_count": 94,
   "id": "e2c73376",
   "metadata": {},
   "outputs": [
    {
     "data": {
      "image/png": "[encoded data removed]",
      "text/plain": [
       "<Figure size 1080x576 with 1 Axes>"
      ]
     },
     "metadata": {
      "needs_background": "light"
     },
     "output_type": "display_data"
    }
   ],
   "source": [
    "plt.ylabel('用户数量')\n",
    "plt.title('各地区距离用户数量')\n",
    "plt.plot(local['距离划分'],local['用户数量'])\n",
    "for x,y in enumerate(local['用户数量']):\n",
    "    plt.text(x,y+200,y,ha='center')\n",
    "plt.show()"
   ]
  },
  {
   "cell_type": "markdown",
   "id": "2cea6065",
   "metadata": {},
   "source": [
    "* 由上述折线图得知，绝大多数下单用户集中在0-3000米内，超过3000米的下单用户特别少"
   ]
  },
  {
   "cell_type": "markdown",
   "id": "2f1c5bd9",
   "metadata": {},
   "source": [
    "### 累计订单金额80%"
   ]
  },
  {
   "cell_type": "code",
   "execution_count": 98,
   "id": "94acc8f1",
   "metadata": {},
   "outputs": [
    {
     "data": {
      "text/html": [
       "<div>\n",
       "<style scoped>\n",
       "    .dataframe tbody tr th:only-of-type {\n",
       "        vertical-align: middle;\n",
       "    }\n",
       "\n",
       "    .dataframe tbody tr th {\n",
       "        vertical-align: top;\n",
       "    }\n",
       "\n",
       "    .dataframe thead th {\n",
       "        text-align: right;\n",
       "    }\n",
       "</style>\n",
       "<table border=\"1\" class=\"dataframe\">\n",
       "  <thead>\n",
       "    <tr style=\"text-align: right;\">\n",
       "      <th></th>\n",
       "      <th>用户id</th>\n",
       "      <th>订单金额</th>\n",
       "      <th>累计销售额</th>\n",
       "    </tr>\n",
       "  </thead>\n",
       "  <tbody>\n",
       "    <tr>\n",
       "      <th>0</th>\n",
       "      <td>21728382</td>\n",
       "      <td>999.16</td>\n",
       "      <td>999.16</td>\n",
       "    </tr>\n",
       "    <tr>\n",
       "      <th>1</th>\n",
       "      <td>538060266</td>\n",
       "      <td>879.62</td>\n",
       "      <td>1878.78</td>\n",
       "    </tr>\n",
       "    <tr>\n",
       "      <th>2</th>\n",
       "      <td>649966313</td>\n",
       "      <td>792.12</td>\n",
       "      <td>2670.90</td>\n",
       "    </tr>\n",
       "    <tr>\n",
       "      <th>3</th>\n",
       "      <td>1766210559</td>\n",
       "      <td>744.54</td>\n",
       "      <td>3415.44</td>\n",
       "    </tr>\n",
       "    <tr>\n",
       "      <th>4</th>\n",
       "      <td>1951131738</td>\n",
       "      <td>727.68</td>\n",
       "      <td>4143.12</td>\n",
       "    </tr>\n",
       "    <tr>\n",
       "      <th>...</th>\n",
       "      <td>...</td>\n",
       "      <td>...</td>\n",
       "      <td>...</td>\n",
       "    </tr>\n",
       "    <tr>\n",
       "      <th>1993</th>\n",
       "      <td>42099748</td>\n",
       "      <td>26.28</td>\n",
       "      <td>162775.54</td>\n",
       "    </tr>\n",
       "    <tr>\n",
       "      <th>1994</th>\n",
       "      <td>590354186</td>\n",
       "      <td>25.90</td>\n",
       "      <td>162801.44</td>\n",
       "    </tr>\n",
       "    <tr>\n",
       "      <th>1995</th>\n",
       "      <td>654779587</td>\n",
       "      <td>20.76</td>\n",
       "      <td>162822.20</td>\n",
       "    </tr>\n",
       "    <tr>\n",
       "      <th>1996</th>\n",
       "      <td>673620768</td>\n",
       "      <td>19.62</td>\n",
       "      <td>162841.82</td>\n",
       "    </tr>\n",
       "    <tr>\n",
       "      <th>1997</th>\n",
       "      <td>1946813457</td>\n",
       "      <td>17.76</td>\n",
       "      <td>162859.58</td>\n",
       "    </tr>\n",
       "  </tbody>\n",
       "</table>\n",
       "<p>1998 rows × 3 columns</p>\n",
       "</div>"
      ],
      "text/plain": [
       "            用户id    订单金额      累计销售额\n",
       "0       21728382  999.16     999.16\n",
       "1      538060266  879.62    1878.78\n",
       "2      649966313  792.12    2670.90\n",
       "3     1766210559  744.54    3415.44\n",
       "4     1951131738  727.68    4143.12\n",
       "...          ...     ...        ...\n",
       "1993    42099748   26.28  162775.54\n",
       "1994   590354186   25.90  162801.44\n",
       "1995   654779587   20.76  162822.20\n",
       "1996   673620768   19.62  162841.82\n",
       "1997  1946813457   17.76  162859.58\n",
       "\n",
       "[1998 rows x 3 columns]"
      ]
     },
     "execution_count": 98,
     "metadata": {},
     "output_type": "execute_result"
    }
   ],
   "source": [
    "user_28 = 数据2.groupby('用户id').agg(订单金额=('订单金额','sum')).sort_values('订单金额',ascending=False).reset_index()\n",
    "user_28['累计销售额'] = user_28['订单金额'].cumsum()\n",
    "user_28"
   ]
  },
  {
   "cell_type": "code",
   "execution_count": 99,
   "id": "4b3c142d",
   "metadata": {},
   "outputs": [
    {
     "data": {
      "text/plain": [
       "0.6171171171171171"
      ]
     },
     "execution_count": 99,
     "metadata": {},
     "output_type": "execute_result"
    }
   ],
   "source": [
    "p = user_28['订单金额'].cumsum()/user_28['订单金额'].sum()  \n",
    "key = p[p>0.8].index[0] \n",
    "key / user_28.shape[0]"
   ]
  },
  {
   "cell_type": "markdown",
   "id": "c81b505e",
   "metadata": {},
   "source": [
    "* 百分之八十的销售额是由百分之六十的客户贡献的"
   ]
  },
  {
   "cell_type": "code",
   "execution_count": 104,
   "id": "fcd02864",
   "metadata": {},
   "outputs": [
    {
     "data": {
      "image/png": "[encoded data removed]",
      "text/plain": [
       "<Figure size 1080x576 with 1 Axes>"
      ]
     },
     "metadata": {
      "needs_background": "light"
     },
     "output_type": "display_data"
    }
   ],
   "source": [
    "plt.ylabel('累计销售额')\n",
    "plt.title('下单人数')\n",
    "plt.plot(user_28.index,user_28['累计销售额'])\n",
    "plt.show()"
   ]
  },
  {
   "cell_type": "markdown",
   "id": "f1d306cd",
   "metadata": {},
   "source": [
    "### 订单额的分位数"
   ]
  },
  {
   "cell_type": "code",
   "execution_count": 105,
   "id": "9b5d973a",
   "metadata": {},
   "outputs": [
    {
     "data": {
      "text/html": [
       "<div>\n",
       "<style scoped>\n",
       "    .dataframe tbody tr th:only-of-type {\n",
       "        vertical-align: middle;\n",
       "    }\n",
       "\n",
       "    .dataframe tbody tr th {\n",
       "        vertical-align: top;\n",
       "    }\n",
       "\n",
       "    .dataframe thead th {\n",
       "        text-align: right;\n",
       "    }\n",
       "</style>\n",
       "<table border=\"1\" class=\"dataframe\">\n",
       "  <thead>\n",
       "    <tr style=\"text-align: right;\">\n",
       "      <th></th>\n",
       "      <th>count</th>\n",
       "      <th>mean</th>\n",
       "      <th>std</th>\n",
       "      <th>min</th>\n",
       "      <th>1%</th>\n",
       "      <th>10%</th>\n",
       "      <th>25%</th>\n",
       "      <th>50%</th>\n",
       "      <th>75%</th>\n",
       "      <th>90%</th>\n",
       "      <th>99%</th>\n",
       "      <th>max</th>\n",
       "    </tr>\n",
       "  </thead>\n",
       "  <tbody>\n",
       "    <tr>\n",
       "      <th>订单金额</th>\n",
       "      <td>1998.0</td>\n",
       "      <td>81.511301</td>\n",
       "      <td>74.591658</td>\n",
       "      <td>17.76</td>\n",
       "      <td>28.8716</td>\n",
       "      <td>39.854</td>\n",
       "      <td>45.16</td>\n",
       "      <td>56.66</td>\n",
       "      <td>87.555</td>\n",
       "      <td>146.586</td>\n",
       "      <td>367.4204</td>\n",
       "      <td>999.16</td>\n",
       "    </tr>\n",
       "  </tbody>\n",
       "</table>\n",
       "</div>"
      ],
      "text/plain": [
       "       count       mean        std    min       1%     10%    25%    50%     75%      90%       99%     max\n",
       "订单金额  1998.0  81.511301  74.591658  17.76  28.8716  39.854  45.16  56.66  87.555  146.586  367.4204  999.16"
      ]
     },
     "execution_count": 105,
     "metadata": {},
     "output_type": "execute_result"
    }
   ],
   "source": [
    "数据2.groupby('用户id').agg(订单金额=('订单金额','sum')).describe(percentiles=(0.01,0.1,0.25,0.75,0.9,0.99)).T\n"
   ]
  },
  {
   "cell_type": "markdown",
   "id": "864657d3",
   "metadata": {},
   "source": [
    "### 结论"
   ]
  },
  {
   "cell_type": "markdown",
   "id": "28db3807",
   "metadata": {},
   "source": [
    "* 下单人数最多的位于1000-2000米内，其次是1000米内和2000-3000米内。主要集中在0-3000米内\n",
    "* 排除距离特别近的，其他的下单人数会随着距离的增大越来越少。（推测0-1000米小于2000-3000米的原因可能是0-500米内的用户倾向去线下下单）\n",
    "* 可以推出更多的位于87-146元之间的套餐，并在这些套餐价位上进行更多的优惠，适量减少28元以下的套餐\n",
    "* 做流量推广时，主要集中在0-3000米内的地区"
   ]
  },
  {
   "cell_type": "code",
   "execution_count": null,
   "id": "ed4884a6",
   "metadata": {},
   "outputs": [],
   "source": []
  }
 ],
 "metadata": {
  "kernelspec": {
   "display_name": "Python 3 (ipykernel)",
   "language": "python",
   "name": "python3"
  },
  "language_info": {
   "codemirror_mode": {
    "name": "ipython",
    "version": 3
   },
   "file_extension": ".py",
   "mimetype": "text/x-python",
   "name": "python",
   "nbconvert_exporter": "python",
   "pygments_lexer": "ipython3",
   "version": "3.9.7"
  },
  "toc": {
   "base_numbering": 1,
   "nav_menu": {},
   "number_sections": true,
   "sideBar": true,
   "skip_h1_title": false,
   "title_cell": "Table of Contents",
   "title_sidebar": "Contents",
   "toc_cell": false,
   "toc_position": {
    "height": "calc(100% - 180px)",
    "left": "10px",
    "top": "150px",
    "width": "267.214px"
   },
   "toc_section_display": true,
   "toc_window_display": true
  }
 },
 "nbformat": 4,
 "nbformat_minor": 5
}
