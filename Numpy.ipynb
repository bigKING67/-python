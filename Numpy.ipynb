{
 "cells": [
  {
   "cell_type": "markdown",
   "metadata": {},
   "source": [
    "# 数组"
   ]
  },
  {
   "cell_type": "markdown",
   "metadata": {},
   "source": [
    "##  创建数组的方法"
   ]
  },
  {
   "cell_type": "code",
   "execution_count": 8,
   "metadata": {},
   "outputs": [
    {
     "name": "stdout",
     "output_type": "stream",
     "text": [
      "b: [1 2 3 4 5]\n",
      "c: [1 2 3 4 5]\n",
      "[1 3 5]\n"
     ]
    }
   ],
   "source": [
    "import numpy as np\n",
    "b = np.array(range(1,6)) # range创建数字序列\n",
    "print('b:',b)\n",
    "c = np.array([1,2,3,4,5]) #直接写入，一般不用，太麻烦了\n",
    "print('c:',c)\n",
    "d = np.arange(1,6,2) #创建序列推荐用这个\n",
    "print(d)"
   ]
  },
  {
   "cell_type": "code",
   "execution_count": 5,
   "metadata": {},
   "outputs": [
    {
     "name": "stdout",
     "output_type": "stream",
     "text": [
      "int32\n"
     ]
    }
   ],
   "source": [
    "print(c.dtype) #dtype看数据类型"
   ]
  },
  {
   "cell_type": "code",
   "execution_count": 3,
   "metadata": {},
   "outputs": [
    {
     "name": "stdout",
     "output_type": "stream",
     "text": [
      "<class 'numpy.ndarray'>\n"
     ]
    }
   ],
   "source": [
    "print(type(b))"
   ]
  },
  {
   "cell_type": "markdown",
   "metadata": {},
   "source": [
    "### array的属性"
   ]
  },
  {
   "cell_type": "markdown",
   "metadata": {},
   "source": [
    "* shape &nbsp;\n",
    "返回一个元组，表示array维度"
   ]
  },
  {
   "cell_type": "code",
   "execution_count": 4,
   "metadata": {},
   "outputs": [
    {
     "name": "stdout",
     "output_type": "stream",
     "text": [
      "(5,)\n"
     ]
    }
   ],
   "source": [
    "\n",
    "import numpy as np\n",
    "b = np.array(range(1,6))\n",
    "print(b.shape)"
   ]
  },
  {
   "cell_type": "markdown",
   "metadata": {},
   "source": [
    "* ndim &nbsp; 返回一个数字，表示array的维度的数目"
   ]
  },
  {
   "cell_type": "code",
   "execution_count": 5,
   "metadata": {},
   "outputs": [
    {
     "name": "stdout",
     "output_type": "stream",
     "text": [
      "1\n"
     ]
    }
   ],
   "source": [
    "\n",
    "import numpy as np\n",
    "b = np.array(range(1,6))\n",
    "print(b.ndim)"
   ]
  },
  {
   "cell_type": "markdown",
   "metadata": {},
   "source": [
    "* size &nbsp; 返回一个数字，表示array中所有数据元素的数目"
   ]
  },
  {
   "cell_type": "code",
   "execution_count": 6,
   "metadata": {},
   "outputs": [
    {
     "name": "stdout",
     "output_type": "stream",
     "text": [
      "5\n"
     ]
    }
   ],
   "source": [
    "\n",
    "import numpy as np\n",
    "b = np.array(range(1,6))\n",
    "print(b.size)"
   ]
  },
  {
   "cell_type": "markdown",
   "metadata": {},
   "source": [
    "* size &nbsp; 返回array中元素的数据类型"
   ]
  },
  {
   "cell_type": "markdown",
   "metadata": {},
   "source": [
    "### arange创建数字序列"
   ]
  },
  {
   "cell_type": "code",
   "execution_count": 16,
   "metadata": {},
   "outputs": [
    {
     "name": "stdout",
     "output_type": "stream",
     "text": [
      "[0 1 2 3 4]\n"
     ]
    }
   ],
   "source": [
    "import numpy as np\n",
    "a = np.arange(5)\n",
    "print(a)"
   ]
  },
  {
   "cell_type": "markdown",
   "metadata": {},
   "source": [
    "### 使用ones创建全是1的数组"
   ]
  },
  {
   "cell_type": "code",
   "execution_count": 15,
   "metadata": {},
   "outputs": [
    {
     "name": "stdout",
     "output_type": "stream",
     "text": [
      "[[1. 1. 1.]\n",
      " [1. 1. 1.]]\n",
      "[1. 1.]\n"
     ]
    }
   ],
   "source": [
    "# np.ones(shape,dtype=None,order='C'),后两个dtype和order一般忽略\n",
    "import numpy as np\n",
    "a = np.ones((2,3))\n",
    "b = np.ones((2))\n",
    "print(a)\n",
    "print(b)"
   ]
  },
  {
   "cell_type": "markdown",
   "metadata": {},
   "source": [
    "### 使用zeros创建全是0的数组"
   ]
  },
  {
   "cell_type": "code",
   "execution_count": 18,
   "metadata": {},
   "outputs": [
    {
     "name": "stdout",
     "output_type": "stream",
     "text": [
      "a [0. 0. 0. 0. 0. 0. 0. 0. 0. 0.]\n",
      "b [[0. 0. 0. 0.]\n",
      " [0. 0. 0. 0.]]\n"
     ]
    }
   ],
   "source": [
    "# np.zeros(shape,dtype=None,order='C')\n",
    "import numpy as np\n",
    "a = np.zeros(10)\n",
    "b = np.zeros((2,4))\n",
    "print('a',a)\n",
    "print('b',b)"
   ]
  },
  {
   "cell_type": "markdown",
   "metadata": {},
   "source": [
    "### 使用full创建指定的数组"
   ]
  },
  {
   "cell_type": "code",
   "execution_count": 19,
   "metadata": {},
   "outputs": [
    {
     "name": "stdout",
     "output_type": "stream",
     "text": [
      "[520 520 520]\n",
      "[[520 520 520 520]\n",
      " [520 520 520 520]]\n"
     ]
    }
   ],
   "source": [
    "# np.full(shape,fill,value,dtype=None,order='C')\n",
    "import numpy as np\n",
    "a = np.full(3,520)\n",
    "b = np.full((2,4),520)\n",
    "print(a)\n",
    "print(b)"
   ]
  },
  {
   "cell_type": "markdown",
   "metadata": {},
   "source": [
    "### 二维数组"
   ]
  },
  {
   "cell_type": "markdown",
   "metadata": {},
   "source": [
    "定义：以数组作为数组元素的数组，即“数组的数组”"
   ]
  },
  {
   "cell_type": "code",
   "execution_count": 4,
   "metadata": {},
   "outputs": [
    {
     "name": "stdout",
     "output_type": "stream",
     "text": [
      "[1 2 3 4 5 6]\n",
      "(6,)\n",
      "1\n",
      "[[1 2 3]\n",
      " [4 5 6]]\n",
      "(2, 3)\n",
      "2\n"
     ]
    }
   ],
   "source": [
    "import numpy as np\n",
    "a = np.array([1,2,3,4,5,6])\n",
    "b = np.array([\n",
    "    [1,2,3],\n",
    "    [4,5,6]\n",
    "])\n",
    "print(a)\n",
    "print(a.shape)\n",
    "print(a.ndim)\n",
    "print(b)\n",
    "print(b.shape)\n",
    "print(b.ndim)"
   ]
  },
  {
   "cell_type": "code",
   "execution_count": 10,
   "metadata": {},
   "outputs": [
    {
     "name": "stdout",
     "output_type": "stream",
     "text": [
      "[[1. 1. 1.]\n",
      " [1. 1. 1.]\n",
      " [1. 1. 1.]]\n",
      "[[0. 0. 0. 0.]\n",
      " [0. 0. 0. 0.]\n",
      " [0. 0. 0. 0.]\n",
      " [0. 0. 0. 0.]]\n",
      "[[520 520 520 520]\n",
      " [520 520 520 520]\n",
      " [520 520 520 520]\n",
      " [520 520 520 520]\n",
      " [520 520 520 520]]\n"
     ]
    }
   ],
   "source": [
    "import numpy as np\n",
    "a = np.ones((3,3))\n",
    "print(a)\n",
    "b = np.zeros((4,4))\n",
    "print(b)\n",
    "c = np.full((5,4),520)\n",
    "print(c)"
   ]
  },
  {
   "cell_type": "markdown",
   "metadata": {},
   "source": [
    "### 使用ones_like,zeros_like,full_like创建数组"
   ]
  },
  {
   "cell_type": "code",
   "execution_count": 23,
   "metadata": {},
   "outputs": [
    {
     "name": "stdout",
     "output_type": "stream",
     "text": [
      "[[0 1 2]\n",
      " [3 4 5]]\n",
      "[[1 1 1]\n",
      " [1 1 1]]\n"
     ]
    }
   ],
   "source": [
    "import numpy as np\n",
    "a = np.array([\n",
    "    [0,1,2],\n",
    "    [3,4,5]\n",
    "])\n",
    "b = np.ones_like(a)\n",
    "print(a)\n",
    "print(b)"
   ]
  },
  {
   "cell_type": "markdown",
   "metadata": {},
   "source": [
    "### 使用random创建数组"
   ]
  },
  {
   "cell_type": "code",
   "execution_count": 31,
   "metadata": {},
   "outputs": [
    {
     "name": "stdout",
     "output_type": "stream",
     "text": [
      "0.5651540545648285\n",
      "[-0.57990314  0.07829411  1.33899151]\n",
      "[[ 0.3770632  -1.06278936]\n",
      " [ 1.56822071  0.54016792]\n",
      " [ 0.45569446 -0.37728254]]\n",
      "d: [[[-1.1476391   2.28265798  0.73845313 -0.9573114 ]\n",
      "  [-0.21548233 -1.10011383  0.03646523  1.26784082]]\n",
      "\n",
      " [[-1.14196323 -0.52751412  1.4932204   0.78517078]\n",
      "  [ 1.15050246  0.31072365  1.20094961  0.36294606]]\n",
      "\n",
      " [[ 1.49240483  0.35213203  0.43128482 -0.50436838]\n",
      "  [-1.46980681  0.35662163 -0.10581793 -0.18555397]]]\n"
     ]
    }
   ],
   "source": [
    "import numpy as np\n",
    "a = np.random.randn()\n",
    "print(a)\n",
    "\n",
    "b = np.random.randn(3)\n",
    "print(b)\n",
    "\n",
    "c = np.random.randn(3,2)\n",
    "print(c)\n",
    "\n",
    "d = np.random.randn(3,2,4)\n",
    "print(\"d:\",d)"
   ]
  },
  {
   "cell_type": "markdown",
   "metadata": {},
   "source": [
    "## 多维数组"
   ]
  },
  {
   "cell_type": "markdown",
   "metadata": {},
   "source": [
    "### reshape不改值修改形状"
   ]
  },
  {
   "cell_type": "code",
   "execution_count": 40,
   "metadata": {},
   "outputs": [
    {
     "name": "stdout",
     "output_type": "stream",
     "text": [
      "[[0 1 2 3 4]\n",
      " [5 6 7 8 9]]\n",
      "[[0 1 2 3 4 5 6 7 8 9]]\n"
     ]
    }
   ],
   "source": [
    "import numpy as np\n",
    "a  = np.arange(10).reshape(2,5)\n",
    "print(a)\n",
    "b = a.reshape(1,10)\n",
    "print(b)"
   ]
  },
  {
   "cell_type": "markdown",
   "metadata": {},
   "source": [
    "### 数组计算"
   ]
  },
  {
   "cell_type": "markdown",
   "metadata": {},
   "source": [
    "* 形状一样的数组按对应位置进行计算\n",
    "* 一维和多维数组是可以计算的，只要它们在某一维度上是一样的形状，仍然是按位置计算 (后缘维度相等即可计算）"
   ]
  },
  {
   "cell_type": "code",
   "execution_count": 42,
   "metadata": {
    "scrolled": true
   },
   "outputs": [
    {
     "name": "stdout",
     "output_type": "stream",
     "text": [
      "[[ 1  2  3  4  5]\n",
      " [ 6  7  8  9 10]]\n"
     ]
    }
   ],
   "source": [
    "import numpy as np\n",
    "a  = np.arange(10).reshape(2,5)\n",
    "print(a+1) #给数组加1相当于给数组里的每个元素都加1，重点：每一个元素"
   ]
  },
  {
   "cell_type": "code",
   "execution_count": 46,
   "metadata": {},
   "outputs": [
    {
     "name": "stdout",
     "output_type": "stream",
     "text": [
      "[[0 1 2 3 4]\n",
      " [5 6 7 8 9]]\n",
      "------------------------------\n",
      "[[ 1.51368016  2.02850749  0.91547844  1.10674583  1.26565207]\n",
      " [ 0.29848395 -0.57954546  2.27950721  0.41393272  1.88293197]]\n",
      "------------------------------\n",
      "[[ 1.51368016  3.02850749  2.91547844  4.10674583  5.26565207]\n",
      " [ 5.29848395  5.42045454  9.27950721  8.41393272 10.88293197]]\n"
     ]
    }
   ],
   "source": [
    "import numpy as np\n",
    "a  = np.arange(10).reshape(2,5)\n",
    "b = np.random.randn(2,5)\n",
    "print(a)\n",
    "print('-'*30)\n",
    "print(b)\n",
    "print('-'*30)\n",
    "print(a+b)"
   ]
  },
  {
   "cell_type": "code",
   "execution_count": 48,
   "metadata": {},
   "outputs": [
    {
     "ename": "ValueError",
     "evalue": "cannot reshape array of size 128 into shape (3,2,3)",
     "output_type": "error",
     "traceback": [
      "\u001b[1;31m---------------------------------------------------------------------------\u001b[0m",
      "\u001b[1;31mValueError\u001b[0m                                Traceback (most recent call last)",
      "\u001b[1;32m~\\AppData\\Local\\Temp/ipykernel_548/3650543202.py\u001b[0m in \u001b[0;36m<module>\u001b[1;34m\u001b[0m\n\u001b[0;32m      2\u001b[0m \u001b[1;31m# (3,2,3)和(2,4)能否相加 不能\u001b[0m\u001b[1;33m\u001b[0m\u001b[1;33m\u001b[0m\u001b[0m\n\u001b[0;32m      3\u001b[0m \u001b[1;32mimport\u001b[0m \u001b[0mnumpy\u001b[0m \u001b[1;32mas\u001b[0m \u001b[0mnp\u001b[0m\u001b[1;33m\u001b[0m\u001b[1;33m\u001b[0m\u001b[0m\n\u001b[1;32m----> 4\u001b[1;33m \u001b[0ma\u001b[0m \u001b[1;33m=\u001b[0m \u001b[0mnp\u001b[0m\u001b[1;33m.\u001b[0m\u001b[0marange\u001b[0m\u001b[1;33m(\u001b[0m\u001b[1;36m128\u001b[0m\u001b[1;33m)\u001b[0m\u001b[1;33m.\u001b[0m\u001b[0mreshape\u001b[0m\u001b[1;33m(\u001b[0m\u001b[1;36m3\u001b[0m\u001b[1;33m,\u001b[0m\u001b[1;36m2\u001b[0m\u001b[1;33m,\u001b[0m\u001b[1;36m3\u001b[0m\u001b[1;33m)\u001b[0m\u001b[1;33m\u001b[0m\u001b[1;33m\u001b[0m\u001b[0m\n\u001b[0m\u001b[0;32m      5\u001b[0m \u001b[0mb\u001b[0m \u001b[1;33m=\u001b[0m \u001b[0mnp\u001b[0m\u001b[1;33m.\u001b[0m\u001b[0marange\u001b[0m\u001b[1;33m(\u001b[0m\u001b[1;36m8\u001b[0m\u001b[1;33m)\u001b[0m\u001b[1;33m.\u001b[0m\u001b[0mreshape\u001b[0m\u001b[1;33m(\u001b[0m\u001b[1;36m2\u001b[0m\u001b[1;33m,\u001b[0m\u001b[1;36m4\u001b[0m\u001b[1;33m)\u001b[0m\u001b[1;33m\u001b[0m\u001b[1;33m\u001b[0m\u001b[0m\n\u001b[0;32m      6\u001b[0m \u001b[0mprint\u001b[0m\u001b[1;33m(\u001b[0m\u001b[0ma\u001b[0m\u001b[1;33m)\u001b[0m\u001b[1;33m\u001b[0m\u001b[1;33m\u001b[0m\u001b[0m\n",
      "\u001b[1;31mValueError\u001b[0m: cannot reshape array of size 128 into shape (3,2,3)"
     ]
    }
   ],
   "source": [
    "# 验证（3，2，2）和（2，1）能否相加 能\n",
    "# (3,2,3)和(2,4)能否相加 不能\n",
    "import numpy as np\n",
    "a = np.arange(128).reshape(3,2,3)\n",
    "b = np.arange(8).reshape(2,4)\n",
    "print(a)\n",
    "print('-'*30)\n",
    "print(b)\n",
    "print('-'*30)\n",
    "print(a+b)"
   ]
  },
  {
   "cell_type": "markdown",
   "metadata": {},
   "source": [
    "## 基础索引和切片"
   ]
  },
  {
   "cell_type": "markdown",
   "metadata": {},
   "source": [
    "### 一维数组"
   ]
  },
  {
   "cell_type": "code",
   "execution_count": 56,
   "metadata": {},
   "outputs": [
    {
     "name": "stdout",
     "output_type": "stream",
     "text": [
      "[0 1 2 3 4 5 6 7 8 9]\n",
      "3 5 9\n",
      "[2 3]\n"
     ]
    }
   ],
   "source": [
    "import numpy as np\n",
    "a = np.arange(10)\n",
    "print(a)\n",
    "print(a[3],a[5],a[-1])\n",
    "print(a[2:4])\n"
   ]
  },
  {
   "cell_type": "markdown",
   "metadata": {},
   "source": [
    "### 二维数组"
   ]
  },
  {
   "cell_type": "code",
   "execution_count": 57,
   "metadata": {},
   "outputs": [
    {
     "name": "stdout",
     "output_type": "stream",
     "text": [
      "0\n",
      "17\n",
      "[10 11 12 13 14]\n",
      "[15 16 17 18 19]\n",
      "[[ 0  1  2  3  4]\n",
      " [ 5  6  7  8  9]\n",
      " [10 11 12 13 14]]\n",
      "[[2 3]\n",
      " [7 8]]\n",
      "[ 2  7 12 17]\n"
     ]
    }
   ],
   "source": [
    "import numpy as np\n",
    "a = np.array([\n",
    "    [0,1,2,3,4],\n",
    "    [5,6,7,8,9],\n",
    "    [10,11,12,13,14],\n",
    "    [15,16,17,18,19]\n",
    "])\n",
    "print(a[0,0])\n",
    "print(a[-1,2])\n",
    "print(a[2])\n",
    "print(a[-1])\n",
    "print(a[0:-1])\n",
    "print(a[0:2,2:4])\n",
    "print(a[:,2])"
   ]
  },
  {
   "cell_type": "markdown",
   "metadata": {},
   "source": [
    "## 布尔索引"
   ]
  },
  {
   "cell_type": "markdown",
   "metadata": {},
   "source": [
    "### 一维数组"
   ]
  },
  {
   "cell_type": "code",
   "execution_count": 60,
   "metadata": {},
   "outputs": [
    {
     "name": "stdout",
     "output_type": "stream",
     "text": [
      "[0 1 2 3 4 5 6 7 8 9]\n",
      "[False False False False False False  True  True  True  True]\n",
      "[6 7 8 9]\n",
      "[0 0 0 0 0 0 1 1 1 1]\n",
      "[0 0 0 0 0 0 1 1 1 1]\n"
     ]
    }
   ],
   "source": [
    "import numpy as np\n",
    "数组 = np.arange(10)\n",
    "print(数组)\n",
    "筛选 = 数组 > 5\n",
    "print(筛选) #把True挑出来\n",
    "print(数组[筛选])\n",
    "\n",
    "# 把大于5的变为1，小于5的变成0\n",
    "数组[数组<=5] = 0\n",
    "数组[数组>5] = 1\n",
    "print(数组)\n",
    "\n"
   ]
  },
  {
   "cell_type": "code",
   "execution_count": 61,
   "metadata": {},
   "outputs": [
    {
     "name": "stdout",
     "output_type": "stream",
     "text": [
      "[  0   1   2   3   4   5 526 527 528 529]\n"
     ]
    }
   ],
   "source": [
    "import numpy as np\n",
    "数组 = np.arange(10)\n",
    "#进行自增量的操作，给大于5的加上520\n",
    "数组[数组>5] += 520\n",
    "print(数组)"
   ]
  },
  {
   "cell_type": "markdown",
   "metadata": {},
   "source": [
    "### 二维数组"
   ]
  },
  {
   "cell_type": "code",
   "execution_count": 64,
   "metadata": {},
   "outputs": [
    {
     "name": "stdout",
     "output_type": "stream",
     "text": [
      "[[ 1  2  3  4  5]\n",
      " [ 6  7  8  9 10]\n",
      " [11 12 13 14 15]\n",
      " [16 17 18 19 20]]\n",
      "[[False False False False False]\n",
      " [False False False False False]\n",
      " [ True  True  True  True  True]\n",
      " [ True  True  True  True  True]]\n",
      "[11 12 13 14 15 16 17 18 19 20]\n"
     ]
    }
   ],
   "source": [
    "import numpy as np\n",
    "数组 = np.arange(1,21).reshape(4,5)\n",
    "print(数组)\n",
    "筛选 = 数组 > 10\n",
    "print(筛选) # 返回布尔值\n",
    "print(数组[筛选]) # 返回的是一个一维数组"
   ]
  },
  {
   "cell_type": "code",
   "execution_count": 66,
   "metadata": {},
   "outputs": [
    {
     "name": "stdout",
     "output_type": "stream",
     "text": [
      "[[ 1  2  3  4  5]\n",
      " [ 6  7  8  9 10]\n",
      " [11 12 13 14 15]\n",
      " [16 17 18 19 20]]\n",
      "[ 4  9 14 19]\n",
      "[[  1   2   3   4   5]\n",
      " [  6   7   8 520  10]\n",
      " [ 11  12  13 520  15]\n",
      " [ 16  17  18 520  20]]\n"
     ]
    }
   ],
   "source": [
    "# 把第三列大于5的行筛选出来并赋值520 (替换)\n",
    "import numpy as np\n",
    "数组 = np.arange(1,21).reshape(4,5)\n",
    "print(数组)\n",
    "print(数组[:,3])\n",
    "筛选 = 数组[:,3] > 5 # 第3列大于5的\n",
    "数组[:,3][筛选] = 520\n",
    "print(数组)"
   ]
  },
  {
   "cell_type": "code",
   "execution_count": 67,
   "metadata": {},
   "outputs": [
    {
     "name": "stdout",
     "output_type": "stream",
     "text": [
      "[[10 20 30]\n",
      " [50 40 10]\n",
      " [10  1 10]]\n",
      "[[False False  True]\n",
      " [ True  True False]\n",
      " [False False False]]\n",
      "[30 50 40]\n"
     ]
    }
   ],
   "source": [
    "# 找出来\n",
    "import numpy as np\n",
    "数组 = np.array([\n",
    "    [10,20,30],\n",
    "    [50,40,10],\n",
    "    [10,1,10]\n",
    "])\n",
    "print(数组)\n",
    "筛选 = 数组 > 25\n",
    "print(筛选)\n",
    "print(数组[筛选])"
   ]
  },
  {
   "cell_type": "code",
   "execution_count": 70,
   "metadata": {},
   "outputs": [
    {
     "name": "stdout",
     "output_type": "stream",
     "text": [
      "[0 1 2 3 4 5 6 7 8 9]\n",
      "------------------------------\n",
      "[ True  True  True  True  True  True  True False  True False]\n",
      "[0 1 2 3 4 5 6 8]\n"
     ]
    }
   ],
   "source": [
    "# 找出偶数或小于7的数\n",
    "import numpy as np\n",
    "数组 = np.arange(10)\n",
    "print(数组)\n",
    "print('-'*30)\n",
    "条件 = (数组%2 == 0)|(数组<7)\n",
    "print(条件)\n",
    "print(数组[条件])"
   ]
  },
  {
   "cell_type": "markdown",
   "metadata": {},
   "source": [
    "## 神奇索引"
   ]
  },
  {
   "cell_type": "code",
   "execution_count": 73,
   "metadata": {},
   "outputs": [
    {
     "name": "stdout",
     "output_type": "stream",
     "text": [
      "[[ 0  1  2  3]\n",
      " [ 4  5  6  7]\n",
      " [ 8  9 10 11]\n",
      " [12 13 14 15]\n",
      " [16 17 18 19]\n",
      " [20 21 22 23]\n",
      " [24 25 26 27]\n",
      " [28 29 30 31]\n",
      " [32 33 34 35]]\n",
      "------------------------------\n",
      "[[16 17 18 19]\n",
      " [12 13 14 15]\n",
      " [ 0  1  2  3]\n",
      " [24 25 26 27]]\n"
     ]
    }
   ],
   "source": [
    "import numpy as np\n",
    "数组 = np.arange(36).reshape(9,4)\n",
    "print(数组)\n",
    "print('-'*30)\n",
    "print(数组[[4,3,0,6]]) #索引很多行，整行"
   ]
  },
  {
   "cell_type": "code",
   "execution_count": 74,
   "metadata": {},
   "outputs": [
    {
     "name": "stdout",
     "output_type": "stream",
     "text": [
      "[[ 0  1  2  3]\n",
      " [ 4  5  6  7]\n",
      " [ 8  9 10 11]\n",
      " [12 13 14 15]\n",
      " [16 17 18 19]\n",
      " [20 21 22 23]\n",
      " [24 25 26 27]\n",
      " [28 29 30 31]]\n",
      "------------------------------\n",
      "[ 4 23 29 10]\n"
     ]
    }
   ],
   "source": [
    "import numpy as np\n",
    "数组 = np.arange(32).reshape(8,4)\n",
    "print(数组)\n",
    "print('-'*30)\n",
    "读取 = 数组[[1,5,7,2],[0,3,1,2]] #取多行多列\n",
    "print(读取)\n",
    "\n"
   ]
  },
  {
   "cell_type": "code",
   "execution_count": 75,
   "metadata": {},
   "outputs": [
    {
     "name": "stdout",
     "output_type": "stream",
     "text": [
      "[[ 0  1  2  3]\n",
      " [ 4  5  6  7]\n",
      " [ 8  9 10 11]\n",
      " [12 13 14 15]\n",
      " [16 17 18 19]\n",
      " [20 21 22 23]\n",
      " [24 25 26 27]\n",
      " [28 29 30 31]\n",
      " [32 33 34 35]]\n",
      "------------------------------\n",
      "[[ 1  2]\n",
      " [ 5  6]\n",
      " [ 9 10]\n",
      " [13 14]\n",
      " [17 18]\n",
      " [21 22]\n",
      " [25 26]\n",
      " [29 30]\n",
      " [33 34]]\n"
     ]
    }
   ],
   "source": [
    "import numpy as np\n",
    "数组 = np.arange(36).reshape(9,4)\n",
    "print(数组)\n",
    "print('-'*30)\n",
    "print(数组[:,[1,2]])#取多列，多行"
   ]
  },
  {
   "cell_type": "code",
   "execution_count": 76,
   "metadata": {},
   "outputs": [
    {
     "name": "stdout",
     "output_type": "stream",
     "text": [
      "[28  4  4 97 21 97  5 16 91 50]\n",
      "[8 3 5]\n",
      "最大的三个数是[91 97 97]\n"
     ]
    }
   ],
   "source": [
    "# 取数组最大的前N个数字\n",
    "import numpy as np\n",
    "数组 = np.random.randint(1,100,10)\n",
    "print(数组)\n",
    "下标 = 数组.argsort()[-3:]\n",
    "print(下标)\n",
    "最大 = 数组[下标]\n",
    "print(f'最大的三个数是{最大}')"
   ]
  },
  {
   "cell_type": "markdown",
   "metadata": {},
   "source": [
    "# Numpy的轴"
   ]
  },
  {
   "cell_type": "markdown",
   "metadata": {},
   "source": [
    "## 沿轴切片"
   ]
  },
  {
   "cell_type": "code",
   "execution_count": 77,
   "metadata": {},
   "outputs": [],
   "source": [
    "# 凡是提到轴，先看数组的维度，有几维就有几个轴"
   ]
  },
  {
   "cell_type": "markdown",
   "metadata": {},
   "source": [
    "# 数组转置"
   ]
  },
  {
   "cell_type": "markdown",
   "metadata": {},
   "source": [
    "## 行列转置"
   ]
  },
  {
   "cell_type": "code",
   "execution_count": 79,
   "metadata": {},
   "outputs": [
    {
     "name": "stdout",
     "output_type": "stream",
     "text": [
      "[[ 0  1  2  3  4  5]\n",
      " [ 6  7  8  9 10 11]\n",
      " [12 13 14 15 16 17]\n",
      " [18 19 20 21 22 23]]\n",
      "------------------------------\n",
      "[[ 0  6 12 18]\n",
      " [ 1  7 13 19]\n",
      " [ 2  8 14 20]\n",
      " [ 3  9 15 21]\n",
      " [ 4 10 16 22]\n",
      " [ 5 11 17 23]]\n"
     ]
    }
   ],
   "source": [
    "import numpy as np\n",
    "数组 = np.arange(24).reshape((4,6))\n",
    "print(数组)\n",
    "print(\"-\"*30)\n",
    "print(数组.transpose())"
   ]
  },
  {
   "cell_type": "markdown",
   "metadata": {},
   "source": [
    "## 轴转置"
   ]
  },
  {
   "cell_type": "code",
   "execution_count": 82,
   "metadata": {},
   "outputs": [
    {
     "name": "stdout",
     "output_type": "stream",
     "text": [
      "[[ 0  1  2  3  4  5]\n",
      " [ 6  7  8  9 10 11]\n",
      " [12 13 14 15 16 17]\n",
      " [18 19 20 21 22 23]]\n",
      "------------------------------\n",
      "[[ 0  6 12 18]\n",
      " [ 1  7 13 19]\n",
      " [ 2  8 14 20]\n",
      " [ 3  9 15 21]\n",
      " [ 4 10 16 22]\n",
      " [ 5 11 17 23]]\n"
     ]
    }
   ],
   "source": [
    "import numpy as np\n",
    "数组 = np.arange(24).reshape((4,6)) #原来是(0,1)轴\n",
    "print(数组)\n",
    "print(\"-\"*30)\n",
    "print(数组.swapaxes(1,0))"
   ]
  },
  {
   "cell_type": "markdown",
   "metadata": {},
   "source": [
    "# random随机数"
   ]
  },
  {
   "cell_type": "code",
   "execution_count": 88,
   "metadata": {},
   "outputs": [
    {
     "name": "stdout",
     "output_type": "stream",
     "text": [
      "0.1456692551041303\n",
      "0.45492700451402135\n"
     ]
    }
   ],
   "source": [
    "import random \n",
    "random.seed(100)\n",
    "print(random.random())\n",
    "print(random.random())"
   ]
  },
  {
   "cell_type": "code",
   "execution_count": 91,
   "metadata": {},
   "outputs": [
    {
     "data": {
      "image/png": "[encoded data removed]",
      "text/plain": [
       "<Figure size 432x288 with 1 Axes>"
      ]
     },
     "metadata": {
      "needs_background": "light"
     },
     "output_type": "display_data"
    }
   ],
   "source": [
    "import numpy as np\n",
    "import matplotlib.pyplot as plt # 导包正确用法\n",
    "x轴 = np.linspace(-10,10,100)\n",
    "y轴 = np.sin(x轴)\n",
    "plt.plot(x轴,y轴)\n",
    "plt.show()"
   ]
  },
  {
   "cell_type": "markdown",
   "metadata": {},
   "source": [
    "## rand 返回0-1之间"
   ]
  },
  {
   "cell_type": "markdown",
   "metadata": {},
   "source": [
    "## randn 返回标准正态分布随机数，平均数0，方差1"
   ]
  },
  {
   "cell_type": "markdown",
   "metadata": {},
   "source": [
    "## random 0.0-1.0"
   ]
  },
  {
   "cell_type": "code",
   "execution_count": 116,
   "metadata": {},
   "outputs": [
    {
     "name": "stdout",
     "output_type": "stream",
     "text": [
      "[[0.37405633 0.65560639]\n",
      " [0.73664031 0.82037636]\n",
      " [0.60116398 0.98776634]]\n"
     ]
    }
   ],
   "source": [
    "import numpy as np\n",
    "a = np.random.random(size=(3,2))\n",
    "print(a)"
   ]
  },
  {
   "cell_type": "markdown",
   "metadata": {},
   "source": [
    "## randint 随机整数"
   ]
  },
  {
   "cell_type": "code",
   "execution_count": 112,
   "metadata": {},
   "outputs": [
    {
     "name": "stdout",
     "output_type": "stream",
     "text": [
      "0\n",
      "6\n",
      "[[5]\n",
      " [9]\n",
      " [4]\n",
      " [1]\n",
      " [9]]\n",
      "[[ 4  1  3 13]\n",
      " [16 12 13 16]\n",
      " [17  1  8 19]]\n",
      "[[[ 4  6  5  9]\n",
      "  [11  2 18 12]\n",
      "  [15  9 12  9]]\n",
      "\n",
      " [[15  6  8  6]\n",
      "  [ 3  8  2  2]\n",
      "  [ 8  6 16  4]]]\n"
     ]
    }
   ],
   "source": [
    "import numpy as np\n",
    "a = np.random.randint(3) # 0-3之间整数\n",
    "print(a)\n",
    "b = np.random.randint(1,10)\n",
    "print(b)\n",
    "c = np.random.randint(1,10,size=(5,1))\n",
    "print(c)\n",
    "d = np.random.randint(1,20,size=(3,4))\n",
    "print(d)\n",
    "e = np.random.randint(1,20,size=(2,3,4))\n",
    "print(e)"
   ]
  },
  {
   "cell_type": "markdown",
   "metadata": {},
   "source": [
    "## choice 从一维数组中生成随机数"
   ]
  },
  {
   "cell_type": "code",
   "execution_count": 123,
   "metadata": {},
   "outputs": [
    {
     "name": "stdout",
     "output_type": "stream",
     "text": [
      "[4 2 3]\n",
      "[[0 0 1]\n",
      " [3 3 1]]\n",
      "------------------------------\n",
      "[[9 7 6]\n",
      " [1 8 6]]\n"
     ]
    }
   ],
   "source": [
    "import numpy as np\n",
    "a = np.random.choice(5,3) # 第一个5看作range的范围\n",
    "print(a)\n",
    "b = np.random.choice(5,(2,3))\n",
    "print(b)\n",
    "print('-'*30)\n",
    "c = np.random.choice([1,2,9,4,8,6,7,5],(2,3))\n",
    "print(c)"
   ]
  },
  {
   "cell_type": "markdown",
   "metadata": {},
   "source": [
    "## shuffle 把一个数组进行随机排列"
   ]
  },
  {
   "cell_type": "code",
   "execution_count": 126,
   "metadata": {},
   "outputs": [
    {
     "name": "stdout",
     "output_type": "stream",
     "text": [
      "[0 1 2 3 4 5 6 7 8 9]\n",
      "[9 8 6 7 5 1 3 4 0 2]\n"
     ]
    }
   ],
   "source": [
    "import numpy as np\n",
    "a = np.arange(10)\n",
    "print(a)\n",
    "\n",
    "np.random.shuffle(a)  # 只按行随机排列，列是不变的\n",
    "print(a)"
   ]
  },
  {
   "cell_type": "markdown",
   "metadata": {},
   "source": [
    "## permutation 把一个数组随机排列"
   ]
  },
  {
   "cell_type": "markdown",
   "metadata": {},
   "source": [
    "## normal 生成正态分布数字"
   ]
  },
  {
   "cell_type": "markdown",
   "metadata": {},
   "source": [
    "## uniform 均匀分布"
   ]
  },
  {
   "cell_type": "markdown",
   "metadata": {},
   "source": [
    "# 通用函数"
   ]
  },
  {
   "cell_type": "code",
   "execution_count": 127,
   "metadata": {},
   "outputs": [],
   "source": [
    "# 暂时略过，以后自己填充"
   ]
  },
  {
   "cell_type": "markdown",
   "metadata": {},
   "source": [
    "# 数学和统计方法"
   ]
  },
  {
   "cell_type": "markdown",
   "metadata": {},
   "source": [
    "## 平均数、加权平均数、中位数、众数（在pandas里面弄）"
   ]
  },
  {
   "cell_type": "markdown",
   "metadata": {},
   "source": [
    "### 一维数组"
   ]
  },
  {
   "cell_type": "code",
   "execution_count": 140,
   "metadata": {},
   "outputs": [
    {
     "name": "stdout",
     "output_type": "stream",
     "text": [
      "[1 2 3 4 5 6]\n",
      "------------------------------\n",
      "21\n",
      "------------------------------\n",
      "720\n",
      "------------------------------\n",
      "[ 1  3  6 10 15 21]\n",
      "\n",
      "[  1   2   6  24 120 720]\n",
      "6\n",
      "1\n",
      "5\n",
      "0\n",
      "3.5\n",
      "3.5\n",
      "3.5\n"
     ]
    }
   ],
   "source": [
    "import numpy as np\n",
    "a = np.array([1,2,3,4,5,6])\n",
    "print(a)\n",
    "print('-'*30)\n",
    "print(np.sum(a)) \n",
    "print('-'*30)\n",
    "print(np.prod(a)) #求乘积\n",
    "print('-'*30)\n",
    "print(np.cumsum(a)) # 从0开始的累加\n",
    "print() \n",
    "print(np.cumprod(a)) # 从1开始元素的累积积\n",
    "print(np.max(a))\n",
    "print(np.min(a))\n",
    "print(np.argmax(a)) # 最大值所在的下标\n",
    "print(np.argmin(a)) # 最小值所在的下标\n",
    "print(np.mean(a)) # 求平均数\n",
    "print(np.median(a)) #求中位数\n",
    "print(np.average(a)) "
   ]
  },
  {
   "cell_type": "markdown",
   "metadata": {},
   "source": [
    "### 二维数组"
   ]
  },
  {
   "cell_type": "code",
   "execution_count": 150,
   "metadata": {},
   "outputs": [
    {
     "name": "stdout",
     "output_type": "stream",
     "text": [
      "32\n",
      "17496\n",
      "[ 1  4 10 19 21 24 26 29 32]\n",
      "[    1     3    18   162   324   972  1944  5832 17496]\n",
      "9\n",
      "3.5555555555555554\n",
      "3.5555555555555554\n",
      "3.0\n"
     ]
    }
   ],
   "source": [
    "import numpy as np\n",
    "a = np.array([\n",
    "    [1,3,6],\n",
    "    [9,2,3],\n",
    "    [2,3,3]\n",
    "])\n",
    "print(np.sum(a))\n",
    "print(np.prod(a))\n",
    "print(np.cumsum(a)) # 从0开始元素的累计和，返回一维数组\n",
    "print(np.cumprod(a))\n",
    "print(np.max(a))\n",
    "print(np.average(a))\n",
    "print(np.mean(a))\n",
    "print(np.median(a))"
   ]
  },
  {
   "cell_type": "markdown",
   "metadata": {},
   "source": [
    "## axis参数的用法"
   ]
  },
  {
   "cell_type": "code",
   "execution_count": 153,
   "metadata": {},
   "outputs": [
    {
     "name": "stdout",
     "output_type": "stream",
     "text": [
      "[11 10 11]\n",
      "[10 14  8]\n"
     ]
    }
   ],
   "source": [
    "import numpy as np\n",
    "a = np.array([\n",
    "    [1,3,6],\n",
    "    [9,3,2],\n",
    "    [1,4,3]\n",
    "])\n",
    "print(np.sum(a,axis=0))\n",
    "print(np.sum(a,axis=1))"
   ]
  },
  {
   "cell_type": "markdown",
   "metadata": {},
   "source": [
    "## 数组中满足条件个数的计算"
   ]
  },
  {
   "cell_type": "markdown",
   "metadata": {},
   "source": [
    "### 将条件逻辑作为数组操作"
   ]
  },
  {
   "cell_type": "code",
   "execution_count": 7,
   "metadata": {},
   "outputs": [
    {
     "name": "stdout",
     "output_type": "stream",
     "text": [
      "数组:\n",
      "[[1 3 6]\n",
      " [9 3 2]\n",
      " [1 4 3]]\n",
      "------------------------------\n",
      "[[False False  True]\n",
      " [ True False False]\n",
      " [False  True False]]\n",
      "------------------------------\n",
      "[[1314 1314  520]\n",
      " [ 520 1314 1314]\n",
      " [1314  520 1314]]\n"
     ]
    }
   ],
   "source": [
    "import numpy as np\n",
    "a = np.array([\n",
    "    [1,3,6],\n",
    "    [9,3,2],\n",
    "    [1,4,3]\n",
    "])\n",
    "print(f'数组:\\n{a}')\n",
    "print('-'*30)\n",
    "print(a>3)\n",
    "print('-'*30)\n",
    "print(np.where(a>3,520,1314)) # 类似excel里的if条件"
   ]
  },
  {
   "cell_type": "markdown",
   "metadata": {},
   "source": [
    "### 布尔值数组方法"
   ]
  },
  {
   "cell_type": "code",
   "execution_count": 13,
   "metadata": {},
   "outputs": [
    {
     "name": "stdout",
     "output_type": "stream",
     "text": [
      "数组：\n",
      "[[1 3 6]\n",
      " [9 3 2]\n",
      " [1 4 3]]\n",
      "------------------------------\n",
      "3\n",
      "True\n",
      "False\n"
     ]
    }
   ],
   "source": [
    "import numpy as np\n",
    "a = np.array([\n",
    "    [1,3,6],\n",
    "    [9,3,2],\n",
    "    [1,4,3]\n",
    "])\n",
    "print(f'数组：\\n{a}')\n",
    "print('-'*30)\n",
    "print((a>3).sum())\n",
    "\n",
    "# any:检查数组中是否至少有一个True\n",
    "# all:检查数组中是否每个值都是True\n",
    "b = np.array([False,False,True,False])\n",
    "print(a.any())\n",
    "print(b.all())\n"
   ]
  },
  {
   "cell_type": "markdown",
   "metadata": {},
   "source": [
    "### 按值大小排序sort"
   ]
  },
  {
   "cell_type": "code",
   "execution_count": 19,
   "metadata": {},
   "outputs": [
    {
     "name": "stdout",
     "output_type": "stream",
     "text": [
      "[1 3 4 5 6 7 8 9]\n",
      "数组：/n[[ 0 12 48]\n",
      " [ 4 18 14]\n",
      " [ 7  1 99]]\n",
      "[[ 0 12 48]\n",
      " [ 4 14 18]\n",
      " [ 1  7 99]]\n",
      "------------------------------\n",
      "[[ 0  1 14]\n",
      " [ 4 12 48]\n",
      " [ 7 18 99]]\n"
     ]
    }
   ],
   "source": [
    "# 一维数组\n",
    "import numpy as np\n",
    "a = np.array([3,6,7,9,1,8,5,4])\n",
    "a.sort()\n",
    "print(a)\n",
    "\n",
    "# 二维数组\n",
    "b = np.array([\n",
    "    [0,12,48],\n",
    "    [4,18,14],\n",
    "    [7,1,99]\n",
    "])\n",
    "print(f'数组：/n{b}')\n",
    "print(np.sort(b)) # 默认按最后的轴排序\n",
    "print('-'*30)\n",
    "print(np.sort(b,axis=0))"
   ]
  },
  {
   "cell_type": "markdown",
   "metadata": {},
   "source": [
    "### 从小到大的索引"
   ]
  },
  {
   "cell_type": "code",
   "execution_count": 24,
   "metadata": {},
   "outputs": [
    {
     "name": "stdout",
     "output_type": "stream",
     "text": [
      "索引升序：[1 2 0]\n",
      "数组升序：[29 39 59]\n",
      "索引升序：[0 2 1]\n",
      "索引升序：[59 39 29]\n"
     ]
    }
   ],
   "source": [
    "# 一维数组\n",
    "import  numpy as np\n",
    "x = np.array([59,29,39])\n",
    "a = np.argsort(x)\n",
    "print(f'索引升序：{a}') # 升序\n",
    "print(f'数组升序：{x[a]}')\n",
    "b = np.argsort(-x)\n",
    "print(f'索引升序：{b}') # 降序\n",
    "print(f'索引升序：{x[b]}') "
   ]
  },
  {
   "cell_type": "code",
   "execution_count": 29,
   "metadata": {},
   "outputs": [
    {
     "name": "stdout",
     "output_type": "stream",
     "text": [
      "索引排序：\n",
      "[[0 1 2]\n",
      " [0 2 1]\n",
      " [1 0 2]]\n",
      "------------------------------\n",
      "[[ 0 12 48]\n",
      " [ 4 14 18]\n",
      " [ 1  7 99]]\n"
     ]
    }
   ],
   "source": [
    "# 二维数组\n",
    "import numpy as np\n",
    "x = np.array([\n",
    "    [0,12,48],\n",
    "    [4,18,14],\n",
    "    [7,1,99]\n",
    "])\n",
    "a = np.argsort(x) # \n",
    "print(f'索引排序：\\n{a}')\n",
    "print('-'*30)\n",
    "print(np.array([np.take(x[i],x[i].argsort()) for i in range(3)])) # 无需掌握，pandas里有更好的操作"
   ]
  },
  {
   "cell_type": "markdown",
   "metadata": {},
   "source": [
    "### 按键值的字典序排序"
   ]
  },
  {
   "cell_type": "markdown",
   "metadata": {},
   "source": [
    "### 唯一值与其他集合逻辑 unique和in1d"
   ]
  },
  {
   "cell_type": "code",
   "execution_count": 33,
   "metadata": {},
   "outputs": [
    {
     "name": "stdout",
     "output_type": "stream",
     "text": [
      "['唐僧' '孙悟空' '沙和尚' '猪八戒']\n",
      "[1 3 5 6 7]\n"
     ]
    }
   ],
   "source": [
    "# 去重\n",
    "import numpy as np\n",
    "姓名 = np.array(['孙悟空','猪八戒','孙悟空','沙和尚','孙悟空','唐僧'])\n",
    "print(np.unique(姓名))\n",
    "\n",
    "数组 = np.array([1,3,1,3,5,3,1,3,7,3,5,6])\n",
    "print(np.unique(数组))"
   ]
  },
  {
   "cell_type": "code",
   "execution_count": 36,
   "metadata": {},
   "outputs": [
    {
     "name": "stdout",
     "output_type": "stream",
     "text": [
      "[False False False  True  True  True False]\n"
     ]
    }
   ],
   "source": [
    "# 检查一个数组中的值是否在另一个数组中\n",
    "import numpy as np\n",
    "a = np.array([6,0,0,3,2,5,6])\n",
    "print(np.in1d(a,[2,3,5]))"
   ]
  },
  {
   "cell_type": "markdown",
   "metadata": {},
   "source": [
    "# 浅拷贝和深拷贝"
   ]
  },
  {
   "cell_type": "markdown",
   "metadata": {},
   "source": [
    "## 浅拷贝"
   ]
  },
  {
   "cell_type": "markdown",
   "metadata": {},
   "source": [
    "* a = b,不能这样赋值，因为a和b相互影响,在内存里a变了b也会发生变化\n",
    "* a = b[:] 视图操作，一种切片，会创建新的对象a,但是a的数据完全由b保管，他们两个的数据变化是一致的"
   ]
  },
  {
   "cell_type": "markdown",
   "metadata": {},
   "source": [
    "## 深拷贝"
   ]
  },
  {
   "cell_type": "markdown",
   "metadata": {},
   "source": [
    "* a = b.copy()复制，a和b互不影响，相当于是重新开辟了一个空间保存b的值，然后让a指向b.copy()"
   ]
  },
  {
   "cell_type": "code",
   "execution_count": null,
   "metadata": {},
   "outputs": [],
   "source": []
  }
 ],
 "metadata": {
  "kernelspec": {
   "display_name": "Python 3 (ipykernel)",
   "language": "python",
   "name": "python3"
  },
  "language_info": {
   "codemirror_mode": {
    "name": "ipython",
    "version": 3
   },
   "file_extension": ".py",
   "mimetype": "text/x-python",
   "name": "python",
   "nbconvert_exporter": "python",
   "pygments_lexer": "ipython3",
   "version": "3.9.7"
  },
  "toc": {
   "base_numbering": 1,
   "nav_menu": {},
   "number_sections": true,
   "sideBar": true,
   "skip_h1_title": false,
   "title_cell": "Table of Contents",
   "title_sidebar": "Contents",
   "toc_cell": false,
   "toc_position": {
    "height": "calc(100% - 180px)",
    "left": "10px",
    "top": "150px",
    "width": "288.196px"
   },
   "toc_section_display": true,
   "toc_window_display": true
  }
 },
 "nbformat": 4,
 "nbformat_minor": 2
}
